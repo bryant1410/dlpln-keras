{
 "cells": [
  {
   "cell_type": "markdown",
   "metadata": {},
   "source": [
    "# Keras\n",
    "\n",
    "Keras es una biblioteca para manipular redes neuronales. Es una capa de alto nivel por arriba de Theano (o de TensorFlow).\n",
    "\n",
    "## Ejemplo simple\n",
    "\n",
    "Construcción de una red neuronal:"
   ]
  },
  {
   "cell_type": "code",
   "execution_count": 7,
   "metadata": {
    "collapsed": false
   },
   "outputs": [],
   "source": [
    "%matplotlib inline\n",
    "from keras.layers import Dense, Activation\n",
    "from keras.models import Sequential\n",
    "\n",
    "model = Sequential()\n",
    "\n",
    "model.add(Dense(output_dim=2, input_dim=5))\n",
    "model.add(Activation(\"sigmoid\"))\n",
    "model.add(Dense(output_dim=1))\n",
    "model.add(Activation(\"sigmoid\"))"
   ]
  },
  {
   "cell_type": "markdown",
   "metadata": {},
   "source": [
    "La podemos visualizar:"
   ]
  },
  {
   "cell_type": "code",
   "execution_count": 30,
   "metadata": {
    "collapsed": false
   },
   "outputs": [
    {
     "data": {
      "image/svg+xml": [
       "<svg height=\"337pt\" viewBox=\"0.00 0.00 176.00 337.00\" width=\"176pt\" xmlns=\"http://www.w3.org/2000/svg\" xmlns:xlink=\"http://www.w3.org/1999/xlink\">\n",
       "<g class=\"graph\" id=\"graph0\" transform=\"scale(1 1) rotate(0) translate(4 333)\">\n",
       "<title>G</title>\n",
       "<polygon fill=\"white\" points=\"-4,4 -4,-333 172,-333 172,4 -4,4\" stroke=\"none\"/>\n",
       "<!-- 139942933818392 -->\n",
       "<g class=\"node\" id=\"node1\"><title>139942933818392</title>\n",
       "<polygon fill=\"none\" points=\"-1.42109e-14,-292.5 -1.42109e-14,-328.5 168,-328.5 168,-292.5 -1.42109e-14,-292.5\" stroke=\"black\"/>\n",
       "<text font-family=\"Times,serif\" font-size=\"14.00\" text-anchor=\"middle\" x=\"84\" y=\"-306.8\">dense_input_2 (InputLayer)</text>\n",
       "</g>\n",
       "<!-- 139942933818280 -->\n",
       "<g class=\"node\" id=\"node2\"><title>139942933818280</title>\n",
       "<polygon fill=\"none\" points=\"30.5,-219.5 30.5,-255.5 137.5,-255.5 137.5,-219.5 30.5,-219.5\" stroke=\"black\"/>\n",
       "<text font-family=\"Times,serif\" font-size=\"14.00\" text-anchor=\"middle\" x=\"84\" y=\"-233.8\">dense_3 (Dense)</text>\n",
       "</g>\n",
       "<!-- 139942933818392&#45;&gt;139942933818280 -->\n",
       "<g class=\"edge\" id=\"edge1\"><title>139942933818392-&gt;139942933818280</title>\n",
       "<path d=\"M84,-292.313C84,-284.289 84,-274.547 84,-265.569\" fill=\"none\" stroke=\"black\"/>\n",
       "<polygon fill=\"black\" points=\"87.5001,-265.529 84,-255.529 80.5001,-265.529 87.5001,-265.529\" stroke=\"black\"/>\n",
       "</g>\n",
       "<!-- 139942933818336 -->\n",
       "<g class=\"node\" id=\"node3\"><title>139942933818336</title>\n",
       "<polygon fill=\"none\" points=\"7.5,-146.5 7.5,-182.5 160.5,-182.5 160.5,-146.5 7.5,-146.5\" stroke=\"black\"/>\n",
       "<text font-family=\"Times,serif\" font-size=\"14.00\" text-anchor=\"middle\" x=\"84\" y=\"-160.8\">activation_3 (Activation)</text>\n",
       "</g>\n",
       "<!-- 139942933818280&#45;&gt;139942933818336 -->\n",
       "<g class=\"edge\" id=\"edge2\"><title>139942933818280-&gt;139942933818336</title>\n",
       "<path d=\"M84,-219.313C84,-211.289 84,-201.547 84,-192.569\" fill=\"none\" stroke=\"black\"/>\n",
       "<polygon fill=\"black\" points=\"87.5001,-192.529 84,-182.529 80.5001,-192.529 87.5001,-192.529\" stroke=\"black\"/>\n",
       "</g>\n",
       "<!-- 139942889245944 -->\n",
       "<g class=\"node\" id=\"node4\"><title>139942889245944</title>\n",
       "<polygon fill=\"none\" points=\"30.5,-73.5 30.5,-109.5 137.5,-109.5 137.5,-73.5 30.5,-73.5\" stroke=\"black\"/>\n",
       "<text font-family=\"Times,serif\" font-size=\"14.00\" text-anchor=\"middle\" x=\"84\" y=\"-87.8\">dense_4 (Dense)</text>\n",
       "</g>\n",
       "<!-- 139942933818336&#45;&gt;139942889245944 -->\n",
       "<g class=\"edge\" id=\"edge3\"><title>139942933818336-&gt;139942889245944</title>\n",
       "<path d=\"M84,-146.313C84,-138.289 84,-128.547 84,-119.569\" fill=\"none\" stroke=\"black\"/>\n",
       "<polygon fill=\"black\" points=\"87.5001,-119.529 84,-109.529 80.5001,-119.529 87.5001,-119.529\" stroke=\"black\"/>\n",
       "</g>\n",
       "<!-- 139942889263400 -->\n",
       "<g class=\"node\" id=\"node5\"><title>139942889263400</title>\n",
       "<polygon fill=\"none\" points=\"7.5,-0.5 7.5,-36.5 160.5,-36.5 160.5,-0.5 7.5,-0.5\" stroke=\"black\"/>\n",
       "<text font-family=\"Times,serif\" font-size=\"14.00\" text-anchor=\"middle\" x=\"84\" y=\"-14.8\">activation_4 (Activation)</text>\n",
       "</g>\n",
       "<!-- 139942889245944&#45;&gt;139942889263400 -->\n",
       "<g class=\"edge\" id=\"edge4\"><title>139942889245944-&gt;139942889263400</title>\n",
       "<path d=\"M84,-73.3129C84,-65.2895 84,-55.5475 84,-46.5691\" fill=\"none\" stroke=\"black\"/>\n",
       "<polygon fill=\"black\" points=\"87.5001,-46.5288 84,-36.5288 80.5001,-46.5289 87.5001,-46.5288\" stroke=\"black\"/>\n",
       "</g>\n",
       "</g>\n",
       "</svg>"
      ],
      "text/plain": [
       "<IPython.core.display.SVG object>"
      ]
     },
     "execution_count": 30,
     "metadata": {},
     "output_type": "execute_result"
    }
   ],
   "source": [
    "from IPython.display import SVG\n",
    "from keras.utils.visualize_util import model_to_dot\n",
    "\n",
    "SVG(model_to_dot(model).create(prog='dot', format='svg'))"
   ]
  },
  {
   "cell_type": "markdown",
   "metadata": {},
   "source": [
    "Luego hay que compilar:"
   ]
  },
  {
   "cell_type": "code",
   "execution_count": 28,
   "metadata": {
    "collapsed": true
   },
   "outputs": [],
   "source": [
    "model.compile(loss='mean_squared_error', optimizer='sgd')"
   ]
  },
  {
   "cell_type": "markdown",
   "metadata": {},
   "source": [
    "Usamos un conjunto de datos de ejemplo:"
   ]
  },
  {
   "cell_type": "code",
   "execution_count": 20,
   "metadata": {
    "collapsed": false
   },
   "outputs": [],
   "source": [
    "import numpy as np\n",
    "\n",
    "def dataset(n_train, n_test):\n",
    "    n = n_train + n_test\n",
    "    points = np.random.uniform(-3, 3, [n, 2])\n",
    "    features = np.c_[points, points[:, 0]**2, points[:, 1]**2, points[:, 0] * points[:, 1]]\n",
    "    labels = (np.linalg.norm(points, axis=1) > 2).astype(int)\n",
    "    return (features[:n_train], labels[:n_train]), (features[n_train:], labels[n_train:])\n",
    "\n",
    "(X_train, y_train), (X_test, y_test) = dataset(800, 200)"
   ]
  },
  {
   "cell_type": "markdown",
   "metadata": {},
   "source": [
    "Entrenamos la red:"
   ]
  },
  {
   "cell_type": "code",
   "execution_count": 29,
   "metadata": {
    "collapsed": false
   },
   "outputs": [
    {
     "name": "stdout",
     "output_type": "stream",
     "text": [
      "Epoch 1/5\n",
      "800/800 [==============================] - 0s - loss: 0.2515     \n",
      "Epoch 2/5\n",
      "800/800 [==============================] - 0s - loss: 0.2488     \n",
      "Epoch 3/5\n",
      "800/800 [==============================] - 0s - loss: 0.2464     \n",
      "Epoch 4/5\n",
      "800/800 [==============================] - 0s - loss: 0.2441     \n",
      "Epoch 5/5\n",
      "800/800 [==============================] - 0s - loss: 0.2419     \n"
     ]
    },
    {
     "data": {
      "text/plain": [
       "<keras.callbacks.History at 0x7f46faf954a8>"
      ]
     },
     "execution_count": 29,
     "metadata": {},
     "output_type": "execute_result"
    }
   ],
   "source": [
    "model.fit(X_train, y_train, nb_epoch=5, batch_size=32)"
   ]
  },
  {
   "cell_type": "markdown",
   "metadata": {},
   "source": [
    "Luego evaluamos:"
   ]
  },
  {
   "cell_type": "code",
   "execution_count": 32,
   "metadata": {
    "collapsed": false
   },
   "outputs": [
    {
     "name": "stdout",
     "output_type": "stream",
     "text": [
      "\r",
      " 32/200 [===>..........................] - ETA: 0s"
     ]
    }
   ],
   "source": [
    "loss_and_metrics = model.evaluate(X_test, y_test, batch_size=32)"
   ]
  },
  {
   "cell_type": "markdown",
   "metadata": {},
   "source": []
  },
  {
   "cell_type": "code",
   "execution_count": 38,
   "metadata": {
    "collapsed": false
   },
   "outputs": [
    {
     "name": "stdout",
     "output_type": "stream",
     "text": [
      " 32/200 [===>..........................] - ETA: 0s"
     ]
    }
   ],
   "source": [
    "y_eval = model.predict_classes(X_test, batch_size=32)\n",
    "probability = model.predict_proba(X_test, batch_size=32)"
   ]
  },
  {
   "cell_type": "code",
   "execution_count": 39,
   "metadata": {
    "collapsed": false
   },
   "outputs": [],
   "source": [
    "# graficar"
   ]
  }
 ],
 "metadata": {
  "kernelspec": {
   "display_name": "Python 3",
   "language": "python",
   "name": "python3"
  },
  "language_info": {
   "codemirror_mode": {
    "name": "ipython",
    "version": 3
   },
   "file_extension": ".py",
   "mimetype": "text/x-python",
   "name": "python",
   "nbconvert_exporter": "python",
   "pygments_lexer": "ipython3",
   "version": "3.5.1"
  }
 },
 "nbformat": 4,
 "nbformat_minor": 0
}
