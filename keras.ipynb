{
 "cells": [
  {
   "cell_type": "markdown",
   "metadata": {},
   "source": [
    "# Keras\n",
    "\n",
    "Keras es una biblioteca para manipular redes neuronales. Es una capa de alto nivel por arriba de Theano (o de TensorFlow).\n",
    "\n",
    "## Ejemplo simple\n",
    "\n",
    "Construcción de una red neuronal:"
   ]
  },
  {
   "cell_type": "code",
   "execution_count": 165,
   "metadata": {
    "collapsed": false
   },
   "outputs": [],
   "source": [
    "%matplotlib inline\n",
    "from keras.layers import Dense, Activation\n",
    "from keras.models import Sequential\n",
    "\n",
    "model = Sequential()\n",
    "model.add(Dense(output_dim=2, input_dim=5, activation=\"sigmoid\"))\n",
    "model.add(Dense(output_dim=1, activation=\"sigmoid\"))"
   ]
  },
  {
   "cell_type": "markdown",
   "metadata": {},
   "source": [
    "Podemos ver una descripción del modelo:"
   ]
  },
  {
   "cell_type": "code",
   "execution_count": 166,
   "metadata": {
    "collapsed": false
   },
   "outputs": [
    {
     "name": "stdout",
     "output_type": "stream",
     "text": [
      "____________________________________________________________________________________________________\n",
      "Layer (type)                     Output Shape          Param #     Connected to                     \n",
      "====================================================================================================\n",
      "dense_23 (Dense)                 (None, 2)             12          dense_input_12[0][0]             \n",
      "____________________________________________________________________________________________________\n",
      "dense_24 (Dense)                 (None, 1)             3           dense_23[0][0]                   \n",
      "====================================================================================================\n",
      "Total params: 15\n",
      "____________________________________________________________________________________________________\n"
     ]
    }
   ],
   "source": [
    "model.summary()"
   ]
  },
  {
   "cell_type": "markdown",
   "metadata": {},
   "source": [
    "Así como también podemos visualizarlo:"
   ]
  },
  {
   "cell_type": "code",
   "execution_count": 156,
   "metadata": {
    "collapsed": false
   },
   "outputs": [
    {
     "data": {
      "image/svg+xml": [
       "<svg height=\"191pt\" viewBox=\"0.00 0.00 183.00 191.00\" width=\"183pt\" xmlns=\"http://www.w3.org/2000/svg\" xmlns:xlink=\"http://www.w3.org/1999/xlink\">\n",
       "<g class=\"graph\" id=\"graph0\" transform=\"scale(1 1) rotate(0) translate(4 187)\">\n",
       "<title>G</title>\n",
       "<polygon fill=\"white\" points=\"-4,4 -4,-187 179,-187 179,4 -4,4\" stroke=\"none\"/>\n",
       "<!-- 139942753119536 -->\n",
       "<g class=\"node\" id=\"node1\"><title>139942753119536</title>\n",
       "<polygon fill=\"none\" points=\"0,-146.5 0,-182.5 175,-182.5 175,-146.5 0,-146.5\" stroke=\"black\"/>\n",
       "<text font-family=\"Times,serif\" font-size=\"14.00\" text-anchor=\"middle\" x=\"87.5\" y=\"-160.8\">dense_input_11 (InputLayer)</text>\n",
       "</g>\n",
       "<!-- 139942782729072 -->\n",
       "<g class=\"node\" id=\"node2\"><title>139942782729072</title>\n",
       "<polygon fill=\"none\" points=\"30.5,-73.5 30.5,-109.5 144.5,-109.5 144.5,-73.5 30.5,-73.5\" stroke=\"black\"/>\n",
       "<text font-family=\"Times,serif\" font-size=\"14.00\" text-anchor=\"middle\" x=\"87.5\" y=\"-87.8\">dense_21 (Dense)</text>\n",
       "</g>\n",
       "<!-- 139942753119536&#45;&gt;139942782729072 -->\n",
       "<g class=\"edge\" id=\"edge1\"><title>139942753119536-&gt;139942782729072</title>\n",
       "<path d=\"M87.5,-146.313C87.5,-138.289 87.5,-128.547 87.5,-119.569\" fill=\"none\" stroke=\"black\"/>\n",
       "<polygon fill=\"black\" points=\"91.0001,-119.529 87.5,-109.529 84.0001,-119.529 91.0001,-119.529\" stroke=\"black\"/>\n",
       "</g>\n",
       "<!-- 139942753119200 -->\n",
       "<g class=\"node\" id=\"node3\"><title>139942753119200</title>\n",
       "<polygon fill=\"none\" points=\"30.5,-0.5 30.5,-36.5 144.5,-36.5 144.5,-0.5 30.5,-0.5\" stroke=\"black\"/>\n",
       "<text font-family=\"Times,serif\" font-size=\"14.00\" text-anchor=\"middle\" x=\"87.5\" y=\"-14.8\">dense_22 (Dense)</text>\n",
       "</g>\n",
       "<!-- 139942782729072&#45;&gt;139942753119200 -->\n",
       "<g class=\"edge\" id=\"edge2\"><title>139942782729072-&gt;139942753119200</title>\n",
       "<path d=\"M87.5,-73.3129C87.5,-65.2895 87.5,-55.5475 87.5,-46.5691\" fill=\"none\" stroke=\"black\"/>\n",
       "<polygon fill=\"black\" points=\"91.0001,-46.5288 87.5,-36.5288 84.0001,-46.5289 91.0001,-46.5288\" stroke=\"black\"/>\n",
       "</g>\n",
       "</g>\n",
       "</svg>"
      ],
      "text/plain": [
       "<IPython.core.display.SVG object>"
      ]
     },
     "execution_count": 156,
     "metadata": {},
     "output_type": "execute_result"
    }
   ],
   "source": [
    "from IPython.display import SVG\n",
    "from keras.utils.visualize_util import model_to_dot\n",
    "\n",
    "SVG(model_to_dot(model).create(prog='dot', format='svg'))"
   ]
  },
  {
   "cell_type": "markdown",
   "metadata": {},
   "source": [
    "Luego hay que compilar:"
   ]
  },
  {
   "cell_type": "code",
   "execution_count": 157,
   "metadata": {
    "collapsed": true
   },
   "outputs": [],
   "source": [
    "model.compile(loss='binary_crossentropy', optimizer='sgd', metrics=['accuracy'])"
   ]
  },
  {
   "cell_type": "markdown",
   "metadata": {},
   "source": [
    "Usamos un conjunto de datos de ejemplo:"
   ]
  },
  {
   "cell_type": "code",
   "execution_count": 158,
   "metadata": {
    "collapsed": false
   },
   "outputs": [],
   "source": [
    "import numpy as np\n",
    "\n",
    "def dataset(n_train, n_test):\n",
    "    n = n_train + n_test\n",
    "    points = np.random.uniform(-3, 3, [n, 2])\n",
    "    features = np.c_[points, points[:, 0]**2, points[:, 1]**2, points[:, 0] * points[:, 1]]\n",
    "    labels = (np.linalg.norm(points, axis=1) > 2).astype(int)\n",
    "    return (features[:n_train], labels[:n_train]), (features[n_train:], labels[n_train:])\n",
    "\n",
    "(X_train, y_train), (X_test, y_test) = dataset(8000, 2000)"
   ]
  },
  {
   "cell_type": "markdown",
   "metadata": {},
   "source": [
    "Entrenamos la red:"
   ]
  },
  {
   "cell_type": "code",
   "execution_count": 159,
   "metadata": {
    "collapsed": false
   },
   "outputs": [
    {
     "name": "stdout",
     "output_type": "stream",
     "text": [
      "Epoch 1/50\n",
      "8000/8000 [==============================] - 0s - loss: 0.6011 - acc: 0.6485     \n",
      "Epoch 2/50\n",
      "8000/8000 [==============================] - 0s - loss: 0.5935 - acc: 0.6485     \n",
      "Epoch 3/50\n",
      "8000/8000 [==============================] - 0s - loss: 0.5863 - acc: 0.6485     \n",
      "Epoch 4/50\n",
      "8000/8000 [==============================] - 0s - loss: 0.5785 - acc: 0.6485     \n",
      "Epoch 5/50\n",
      "8000/8000 [==============================] - 0s - loss: 0.5698 - acc: 0.6485     \n",
      "Epoch 6/50\n",
      "8000/8000 [==============================] - 0s - loss: 0.5601 - acc: 0.6485     \n",
      "Epoch 7/50\n",
      "8000/8000 [==============================] - 0s - loss: 0.5494 - acc: 0.6485     \n",
      "Epoch 8/50\n",
      "8000/8000 [==============================] - 0s - loss: 0.5375 - acc: 0.6656     \n",
      "Epoch 9/50\n",
      "8000/8000 [==============================] - 0s - loss: 0.5241 - acc: 0.7009     \n",
      "Epoch 10/50\n",
      "8000/8000 [==============================] - 0s - loss: 0.5093 - acc: 0.7290     \n",
      "Epoch 11/50\n",
      "8000/8000 [==============================] - 0s - loss: 0.4929 - acc: 0.7521     \n",
      "Epoch 12/50\n",
      "8000/8000 [==============================] - 0s - loss: 0.4749 - acc: 0.7748     \n",
      "Epoch 13/50\n",
      "8000/8000 [==============================] - 0s - loss: 0.4559 - acc: 0.7991     \n",
      "Epoch 14/50\n",
      "8000/8000 [==============================] - 0s - loss: 0.4364 - acc: 0.8207     \n",
      "Epoch 15/50\n",
      "8000/8000 [==============================] - 0s - loss: 0.4170 - acc: 0.8391     \n",
      "Epoch 16/50\n",
      "8000/8000 [==============================] - 0s - loss: 0.3983 - acc: 0.8570     \n",
      "Epoch 17/50\n",
      "8000/8000 [==============================] - 0s - loss: 0.3805 - acc: 0.8734     \n",
      "Epoch 18/50\n",
      "8000/8000 [==============================] - 0s - loss: 0.3636 - acc: 0.8856     \n",
      "Epoch 19/50\n",
      "8000/8000 [==============================] - 0s - loss: 0.3476 - acc: 0.8979     \n",
      "Epoch 20/50\n",
      "8000/8000 [==============================] - 0s - loss: 0.3325 - acc: 0.9065     \n",
      "Epoch 21/50\n",
      "8000/8000 [==============================] - 0s - loss: 0.3183 - acc: 0.9201     \n",
      "Epoch 22/50\n",
      "8000/8000 [==============================] - 0s - loss: 0.3049 - acc: 0.9288     \n",
      "Epoch 23/50\n",
      "8000/8000 [==============================] - 0s - loss: 0.2923 - acc: 0.9356     \n",
      "Epoch 24/50\n",
      "8000/8000 [==============================] - 0s - loss: 0.2805 - acc: 0.9390     \n",
      "Epoch 25/50\n",
      "8000/8000 [==============================] - 0s - loss: 0.2694 - acc: 0.9454     \n",
      "Epoch 26/50\n",
      "8000/8000 [==============================] - 0s - loss: 0.2590 - acc: 0.9506     \n",
      "Epoch 27/50\n",
      "8000/8000 [==============================] - 0s - loss: 0.2493 - acc: 0.9531     \n",
      "Epoch 28/50\n",
      "8000/8000 [==============================] - 0s - loss: 0.2402 - acc: 0.9585     \n",
      "Epoch 29/50\n",
      "8000/8000 [==============================] - 0s - loss: 0.2317 - acc: 0.9606     \n",
      "Epoch 30/50\n",
      "8000/8000 [==============================] - 0s - loss: 0.2237 - acc: 0.9652     \n",
      "Epoch 31/50\n",
      "8000/8000 [==============================] - 0s - loss: 0.2162 - acc: 0.9673     \n",
      "Epoch 32/50\n",
      "8000/8000 [==============================] - 0s - loss: 0.2092 - acc: 0.9691     \n",
      "Epoch 33/50\n",
      "8000/8000 [==============================] - 0s - loss: 0.2026 - acc: 0.9710     \n",
      "Epoch 34/50\n",
      "8000/8000 [==============================] - 0s - loss: 0.1964 - acc: 0.9711     \n",
      "Epoch 35/50\n",
      "8000/8000 [==============================] - 0s - loss: 0.1906 - acc: 0.9739     \n",
      "Epoch 36/50\n",
      "8000/8000 [==============================] - 0s - loss: 0.1851 - acc: 0.9749     \n",
      "Epoch 37/50\n",
      "8000/8000 [==============================] - 0s - loss: 0.1799 - acc: 0.9762     \n",
      "Epoch 38/50\n",
      "8000/8000 [==============================] - 0s - loss: 0.1749 - acc: 0.9790     \n",
      "Epoch 39/50\n",
      "8000/8000 [==============================] - 0s - loss: 0.1703 - acc: 0.9777     \n",
      "Epoch 40/50\n",
      "8000/8000 [==============================] - 0s - loss: 0.1659 - acc: 0.9798     \n",
      "Epoch 41/50\n",
      "8000/8000 [==============================] - 0s - loss: 0.1618 - acc: 0.9806     \n",
      "Epoch 42/50\n",
      "8000/8000 [==============================] - 0s - loss: 0.1578 - acc: 0.9806     \n",
      "Epoch 43/50\n",
      "8000/8000 [==============================] - 0s - loss: 0.1541 - acc: 0.9832     \n",
      "Epoch 44/50\n",
      "8000/8000 [==============================] - 0s - loss: 0.1505 - acc: 0.9848     \n",
      "Epoch 45/50\n",
      "8000/8000 [==============================] - 0s - loss: 0.1471 - acc: 0.9845     \n",
      "Epoch 46/50\n",
      "8000/8000 [==============================] - 0s - loss: 0.1439 - acc: 0.9868     \n",
      "Epoch 47/50\n",
      "8000/8000 [==============================] - 0s - loss: 0.1408 - acc: 0.9853     \n",
      "Epoch 48/50\n",
      "8000/8000 [==============================] - 0s - loss: 0.1379 - acc: 0.9865     \n",
      "Epoch 49/50\n",
      "8000/8000 [==============================] - 0s - loss: 0.1351 - acc: 0.9865     \n",
      "Epoch 50/50\n",
      "8000/8000 [==============================] - 0s - loss: 0.1324 - acc: 0.9881     \n"
     ]
    },
    {
     "data": {
      "text/plain": [
       "<keras.callbacks.History at 0x7f46f5d7b8d0>"
      ]
     },
     "execution_count": 159,
     "metadata": {},
     "output_type": "execute_result"
    }
   ],
   "source": [
    "model.fit(X_train, y_train, nb_epoch=50, batch_size=32)"
   ]
  },
  {
   "cell_type": "markdown",
   "metadata": {},
   "source": [
    "Podemos evaluar y ver métricas:"
   ]
  },
  {
   "cell_type": "code",
   "execution_count": 160,
   "metadata": {
    "collapsed": false
   },
   "outputs": [
    {
     "name": "stdout",
     "output_type": "stream",
     "text": [
      "1312/2000 [==================>...........] - ETA: 0s\n",
      "\n",
      "Valor de la función de costo: 0.137257861495018\n",
      "Acierto: 0.985\n"
     ]
    }
   ],
   "source": [
    "loss_and_metrics = model.evaluate(X_test, y_test, batch_size=32)\n",
    "print()\n",
    "print()\n",
    "print('Valor de la función de costo: {}'.format(loss_and_metrics[0]))\n",
    "print('Acierto: {}'.format(loss_and_metrics[1]))"
   ]
  },
  {
   "cell_type": "markdown",
   "metadata": {},
   "source": [
    "Y también podemos ver las clases predecidas y sus probablidades:"
   ]
  },
  {
   "cell_type": "code",
   "execution_count": 161,
   "metadata": {
    "collapsed": false
   },
   "outputs": [
    {
     "name": "stdout",
     "output_type": "stream",
     "text": [
      "  32/2000 [..............................] - ETA: 0s[[1]\n",
      " [1]\n",
      " [1]\n",
      " ..., \n",
      " [1]\n",
      " [1]\n",
      " [1]]\n",
      "[[ 0.96887499]\n",
      " [ 0.96947777]\n",
      " [ 0.9470194 ]\n",
      " ..., \n",
      " [ 0.96037537]\n",
      " [ 0.9621622 ]\n",
      " [ 0.92221588]]\n"
     ]
    }
   ],
   "source": [
    "y_pred = model.predict_classes(X_test)\n",
    "probability = model.predict_proba(X_test)\n",
    "\n",
    "print(y_pred)\n",
    "print(probability)"
   ]
  },
  {
   "cell_type": "code",
   "execution_count": 164,
   "metadata": {
    "collapsed": false
   },
   "outputs": [
    {
     "data": {
      "image/png": "[encoded data removed]",
      "text/plain": [
       "<matplotlib.figure.Figure at 0x7f46f5ce7a20>"
      ]
     },
     "metadata": {},
     "output_type": "display_data"
    }
   ],
   "source": [
    "import matplotlib.pyplot as plt\n",
    "\n",
    "def plot(inside, outside):\n",
    "    if inside.any():\n",
    "        plt.plot(inside[:, 0], inside[:, 1], 'bo')\n",
    "    if outside.any():\n",
    "        plt.plot(outside[:, 0], outside[:, 1], 'ro')\n",
    "    circle = plt.Circle((0, 0), radius=2, color='g', fill=False)\n",
    "    plt.gca().add_patch(circle)\n",
    "    plt.show()\n",
    "\n",
    "points_test = X_test[:, :2]\n",
    "\n",
    "inside = np.array([x for x, y in zip(points_test, y_pred) if y == 0])\n",
    "outside = np.array([x for x, y in zip(points_test, y_pred) if y == 1])\n",
    "\n",
    "plot(inside, outside)"
   ]
  }
 ],
 "metadata": {
  "kernelspec": {
   "display_name": "Python 3",
   "language": "python",
   "name": "python3"
  },
  "language_info": {
   "codemirror_mode": {
    "name": "ipython",
    "version": 3
   },
   "file_extension": ".py",
   "mimetype": "text/x-python",
   "name": "python",
   "nbconvert_exporter": "python",
   "pygments_lexer": "ipython3",
   "version": "3.5.1"
  }
 },
 "nbformat": 4,
 "nbformat_minor": 0
}
