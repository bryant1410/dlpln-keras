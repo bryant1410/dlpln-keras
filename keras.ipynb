{
 "cells": [
  {
   "cell_type": "markdown",
   "metadata": {},
   "source": [
    "# Keras\n",
    "\n",
    "Keras es una biblioteca para manipular redes neuronales. Es una capa de alto nivel por arriba de Theano (o de TensorFlow).\n",
    "\n",
    "## Ejemplo simple\n",
    "\n",
    "Construcción de una red neuronal:"
   ]
  },
  {
   "cell_type": "code",
   "execution_count": 1,
   "metadata": {
    "collapsed": false
   },
   "outputs": [
    {
     "name": "stderr",
     "output_type": "stream",
     "text": [
      "Using Theano backend.\n"
     ]
    }
   ],
   "source": [
    "%matplotlib inline\n",
    "from keras.layers import Dense, Activation\n",
    "from keras.models import Sequential\n",
    "\n",
    "model = Sequential()\n",
    "model.add(Dense(output_dim=2, input_dim=5, activation=\"sigmoid\"))\n",
    "model.add(Dense(output_dim=1, activation=\"sigmoid\"))"
   ]
  },
  {
   "cell_type": "markdown",
   "metadata": {},
   "source": [
    "Podemos ver una descripción del modelo:"
   ]
  },
  {
   "cell_type": "code",
   "execution_count": 2,
   "metadata": {
    "collapsed": false
   },
   "outputs": [
    {
     "name": "stdout",
     "output_type": "stream",
     "text": [
      "____________________________________________________________________________________________________\n",
      "Layer (type)                     Output Shape          Param #     Connected to                     \n",
      "====================================================================================================\n",
      "dense_1 (Dense)                  (None, 2)             12          dense_input_1[0][0]              \n",
      "____________________________________________________________________________________________________\n",
      "dense_2 (Dense)                  (None, 1)             3           dense_1[0][0]                    \n",
      "====================================================================================================\n",
      "Total params: 15\n",
      "____________________________________________________________________________________________________\n"
     ]
    }
   ],
   "source": [
    "model.summary()"
   ]
  },
  {
   "cell_type": "markdown",
   "metadata": {},
   "source": [
    "Así como también podemos visualizarlo:"
   ]
  },
  {
   "cell_type": "code",
   "execution_count": 3,
   "metadata": {
    "collapsed": false
   },
   "outputs": [
    {
     "data": {
      "image/svg+xml": [
       "<svg height=\"191pt\" viewBox=\"0.00 0.00 176.00 191.00\" width=\"176pt\" xmlns=\"http://www.w3.org/2000/svg\" xmlns:xlink=\"http://www.w3.org/1999/xlink\">\n",
       "<g class=\"graph\" id=\"graph0\" transform=\"scale(1 1) rotate(0) translate(4 187)\">\n",
       "<title>G</title>\n",
       "<polygon fill=\"white\" points=\"-4,4 -4,-187 172,-187 172,4 -4,4\" stroke=\"none\"/>\n",
       "<!-- 139703646782464 -->\n",
       "<g class=\"node\" id=\"node1\"><title>139703646782464</title>\n",
       "<polygon fill=\"none\" points=\"-1.42109e-14,-146.5 -1.42109e-14,-182.5 168,-182.5 168,-146.5 -1.42109e-14,-146.5\" stroke=\"black\"/>\n",
       "<text font-family=\"Times,serif\" font-size=\"14.00\" text-anchor=\"middle\" x=\"84\" y=\"-160.8\">dense_input_1 (InputLayer)</text>\n",
       "</g>\n",
       "<!-- 139704290597184 -->\n",
       "<g class=\"node\" id=\"node2\"><title>139704290597184</title>\n",
       "<polygon fill=\"none\" points=\"30.5,-73.5 30.5,-109.5 137.5,-109.5 137.5,-73.5 30.5,-73.5\" stroke=\"black\"/>\n",
       "<text font-family=\"Times,serif\" font-size=\"14.00\" text-anchor=\"middle\" x=\"84\" y=\"-87.8\">dense_1 (Dense)</text>\n",
       "</g>\n",
       "<!-- 139703646782464&#45;&gt;139704290597184 -->\n",
       "<g class=\"edge\" id=\"edge1\"><title>139703646782464-&gt;139704290597184</title>\n",
       "<path d=\"M84,-146.313C84,-138.289 84,-128.547 84,-119.569\" fill=\"none\" stroke=\"black\"/>\n",
       "<polygon fill=\"black\" points=\"87.5001,-119.529 84,-109.529 80.5001,-119.529 87.5001,-119.529\" stroke=\"black\"/>\n",
       "</g>\n",
       "<!-- 139704290597240 -->\n",
       "<g class=\"node\" id=\"node3\"><title>139704290597240</title>\n",
       "<polygon fill=\"none\" points=\"30.5,-0.5 30.5,-36.5 137.5,-36.5 137.5,-0.5 30.5,-0.5\" stroke=\"black\"/>\n",
       "<text font-family=\"Times,serif\" font-size=\"14.00\" text-anchor=\"middle\" x=\"84\" y=\"-14.8\">dense_2 (Dense)</text>\n",
       "</g>\n",
       "<!-- 139704290597184&#45;&gt;139704290597240 -->\n",
       "<g class=\"edge\" id=\"edge2\"><title>139704290597184-&gt;139704290597240</title>\n",
       "<path d=\"M84,-73.3129C84,-65.2895 84,-55.5475 84,-46.5691\" fill=\"none\" stroke=\"black\"/>\n",
       "<polygon fill=\"black\" points=\"87.5001,-46.5288 84,-36.5288 80.5001,-46.5289 87.5001,-46.5288\" stroke=\"black\"/>\n",
       "</g>\n",
       "</g>\n",
       "</svg>"
      ],
      "text/plain": [
       "<IPython.core.display.SVG object>"
      ]
     },
     "execution_count": 3,
     "metadata": {},
     "output_type": "execute_result"
    }
   ],
   "source": [
    "from IPython.display import SVG\n",
    "from keras.utils.visualize_util import model_to_dot\n",
    "\n",
    "SVG(model_to_dot(model).create(prog='dot', format='svg'))"
   ]
  },
  {
   "cell_type": "markdown",
   "metadata": {},
   "source": [
    "Luego hay que compilar:"
   ]
  },
  {
   "cell_type": "code",
   "execution_count": 4,
   "metadata": {
    "collapsed": true
   },
   "outputs": [],
   "source": [
    "model.compile(loss='binary_crossentropy', optimizer='sgd', metrics=['accuracy'])"
   ]
  },
  {
   "cell_type": "markdown",
   "metadata": {},
   "source": [
    "Usamos un conjunto de datos de ejemplo:"
   ]
  },
  {
   "cell_type": "code",
   "execution_count": 5,
   "metadata": {
    "collapsed": false
   },
   "outputs": [],
   "source": [
    "import numpy as np\n",
    "\n",
    "def dataset(n_train, n_test):\n",
    "    n = n_train + n_test\n",
    "    points = np.random.uniform(-3, 3, [n, 2])\n",
    "    features = np.c_[points, points[:, 0]**2, points[:, 1]**2, points[:, 0] * points[:, 1]]\n",
    "    labels = (np.linalg.norm(points, axis=1) > 2).astype(int)\n",
    "    return (features[:n_train], labels[:n_train]), (features[n_train:], labels[n_train:])\n",
    "\n",
    "(X_train, y_train), (X_test, y_test) = dataset(8000, 2000)"
   ]
  },
  {
   "cell_type": "markdown",
   "metadata": {},
   "source": [
    "Entrenamos la red:"
   ]
  },
  {
   "cell_type": "code",
   "execution_count": 6,
   "metadata": {
    "collapsed": false
   },
   "outputs": [
    {
     "name": "stdout",
     "output_type": "stream",
     "text": [
      "Epoch 1/50\n",
      "8000/8000 [==============================] - 0s - loss: 0.6074 - acc: 0.6592     \n",
      "Epoch 2/50\n",
      "8000/8000 [==============================] - 0s - loss: 0.5950 - acc: 0.6592     \n",
      "Epoch 3/50\n",
      "8000/8000 [==============================] - 0s - loss: 0.5846 - acc: 0.6592     \n",
      "Epoch 4/50\n",
      "8000/8000 [==============================] - 0s - loss: 0.5753 - acc: 0.6592     \n",
      "Epoch 5/50\n",
      "8000/8000 [==============================] - 0s - loss: 0.5659 - acc: 0.6592     \n",
      "Epoch 6/50\n",
      "8000/8000 [==============================] - 0s - loss: 0.5558 - acc: 0.6592     \n",
      "Epoch 7/50\n",
      "8000/8000 [==============================] - 0s - loss: 0.5448 - acc: 0.6592     \n",
      "Epoch 8/50\n",
      "8000/8000 [==============================] - 0s - loss: 0.5328 - acc: 0.6592     \n",
      "Epoch 9/50\n",
      "8000/8000 [==============================] - 0s - loss: 0.5198 - acc: 0.6601     \n",
      "Epoch 10/50\n",
      "8000/8000 [==============================] - 0s - loss: 0.5057 - acc: 0.6834     \n",
      "Epoch 11/50\n",
      "8000/8000 [==============================] - 0s - loss: 0.4907 - acc: 0.7075     \n",
      "Epoch 12/50\n",
      "8000/8000 [==============================] - 0s - loss: 0.4747 - acc: 0.7351     \n",
      "Epoch 13/50\n",
      "8000/8000 [==============================] - 0s - loss: 0.4579 - acc: 0.7584     \n",
      "Epoch 14/50\n",
      "8000/8000 [==============================] - 0s - loss: 0.4406 - acc: 0.7808     \n",
      "Epoch 15/50\n",
      "8000/8000 [==============================] - 0s - loss: 0.4230 - acc: 0.8045     \n",
      "Epoch 16/50\n",
      "8000/8000 [==============================] - 0s - loss: 0.4055 - acc: 0.8197     \n",
      "Epoch 17/50\n",
      "8000/8000 [==============================] - 0s - loss: 0.3882 - acc: 0.8396     \n",
      "Epoch 18/50\n",
      "8000/8000 [==============================] - 0s - loss: 0.3713 - acc: 0.8576     \n",
      "Epoch 19/50\n",
      "8000/8000 [==============================] - 0s - loss: 0.3550 - acc: 0.8690     \n",
      "Epoch 20/50\n",
      "8000/8000 [==============================] - 0s - loss: 0.3394 - acc: 0.8851     \n",
      "Epoch 21/50\n",
      "8000/8000 [==============================] - 0s - loss: 0.3244 - acc: 0.8955     \n",
      "Epoch 22/50\n",
      "8000/8000 [==============================] - 0s - loss: 0.3102 - acc: 0.9025     \n",
      "Epoch 23/50\n",
      "8000/8000 [==============================] - 0s - loss: 0.2966 - acc: 0.9110     \n",
      "Epoch 24/50\n",
      "8000/8000 [==============================] - 0s - loss: 0.2839 - acc: 0.9179     \n",
      "Epoch 25/50\n",
      "8000/8000 [==============================] - 0s - loss: 0.2718 - acc: 0.9261     \n",
      "Epoch 26/50\n",
      "8000/8000 [==============================] - 0s - loss: 0.2605 - acc: 0.9337     \n",
      "Epoch 27/50\n",
      "8000/8000 [==============================] - 0s - loss: 0.2499 - acc: 0.9390     \n",
      "Epoch 28/50\n",
      "8000/8000 [==============================] - 0s - loss: 0.2400 - acc: 0.9439     \n",
      "Epoch 29/50\n",
      "8000/8000 [==============================] - 0s - loss: 0.2307 - acc: 0.9486     \n",
      "Epoch 30/50\n",
      "8000/8000 [==============================] - 0s - loss: 0.2221 - acc: 0.9517     \n",
      "Epoch 31/50\n",
      "8000/8000 [==============================] - 0s - loss: 0.2140 - acc: 0.9559     \n",
      "Epoch 32/50\n",
      "8000/8000 [==============================] - 0s - loss: 0.2065 - acc: 0.9575     \n",
      "Epoch 33/50\n",
      "8000/8000 [==============================] - 0s - loss: 0.1994 - acc: 0.9596     \n",
      "Epoch 34/50\n",
      "8000/8000 [==============================] - 0s - loss: 0.1928 - acc: 0.9617     \n",
      "Epoch 35/50\n",
      "8000/8000 [==============================] - 0s - loss: 0.1866 - acc: 0.9641     \n",
      "Epoch 36/50\n",
      "8000/8000 [==============================] - 0s - loss: 0.1808 - acc: 0.9649     \n",
      "Epoch 37/50\n",
      "8000/8000 [==============================] - 0s - loss: 0.1754 - acc: 0.9690     \n",
      "Epoch 38/50\n",
      "8000/8000 [==============================] - 0s - loss: 0.1703 - acc: 0.9702     \n",
      "Epoch 39/50\n",
      "8000/8000 [==============================] - 0s - loss: 0.1655 - acc: 0.9724     \n",
      "Epoch 40/50\n",
      "8000/8000 [==============================] - 0s - loss: 0.1610 - acc: 0.9726     \n",
      "Epoch 41/50\n",
      "8000/8000 [==============================] - 0s - loss: 0.1567 - acc: 0.9740     \n",
      "Epoch 42/50\n",
      "8000/8000 [==============================] - 0s - loss: 0.1527 - acc: 0.9739     \n",
      "Epoch 43/50\n",
      "8000/8000 [==============================] - 0s - loss: 0.1489 - acc: 0.9751     \n",
      "Epoch 44/50\n",
      "8000/8000 [==============================] - 0s - loss: 0.1453 - acc: 0.9768     \n",
      "Epoch 45/50\n",
      "8000/8000 [==============================] - 0s - loss: 0.1418 - acc: 0.9769     \n",
      "Epoch 46/50\n",
      "8000/8000 [==============================] - 0s - loss: 0.1386 - acc: 0.9798     \n",
      "Epoch 47/50\n",
      "8000/8000 [==============================] - 0s - loss: 0.1355 - acc: 0.9781     \n",
      "Epoch 48/50\n",
      "8000/8000 [==============================] - 0s - loss: 0.1326 - acc: 0.9795     \n",
      "Epoch 49/50\n",
      "8000/8000 [==============================] - 0s - loss: 0.1298 - acc: 0.9814     \n",
      "Epoch 50/50\n",
      "8000/8000 [==============================] - 0s - loss: 0.1272 - acc: 0.9812     \n"
     ]
    },
    {
     "data": {
      "text/plain": [
       "<keras.callbacks.History at 0x7f0f3afb7c18>"
      ]
     },
     "execution_count": 6,
     "metadata": {},
     "output_type": "execute_result"
    }
   ],
   "source": [
    "model.fit(X_train, y_train, nb_epoch=50, batch_size=32)"
   ]
  },
  {
   "cell_type": "markdown",
   "metadata": {},
   "source": [
    "Podemos evaluar y ver métricas:"
   ]
  },
  {
   "cell_type": "code",
   "execution_count": 7,
   "metadata": {
    "collapsed": false
   },
   "outputs": [
    {
     "name": "stdout",
     "output_type": "stream",
     "text": [
      "1760/2000 [=========================>....] - ETA: 0s\n",
      "\n",
      "Valor de la función de costo: 0.13138423991203307\n",
      "Acierto: 0.977\n"
     ]
    }
   ],
   "source": [
    "loss_and_metrics = model.evaluate(X_test, y_test, batch_size=32)\n",
    "print()\n",
    "print()\n",
    "print('Valor de la función de costo: {}'.format(loss_and_metrics[0]))\n",
    "print('Acierto: {}'.format(loss_and_metrics[1]))"
   ]
  },
  {
   "cell_type": "markdown",
   "metadata": {},
   "source": [
    "Y también podemos ver las clases predecidas y sus probablidades:"
   ]
  },
  {
   "cell_type": "code",
   "execution_count": 8,
   "metadata": {
    "collapsed": false
   },
   "outputs": [
    {
     "name": "stdout",
     "output_type": "stream",
     "text": [
      "1696/2000 [========================>.....] - ETA: 0s[[0]\n",
      " [1]\n",
      " [0]\n",
      " ..., \n",
      " [0]\n",
      " [1]\n",
      " [1]]\n",
      "[[ 0.06571954]\n",
      " [ 0.97925889]\n",
      " [ 0.18408181]\n",
      " ..., \n",
      " [ 0.06201001]\n",
      " [ 0.9259845 ]\n",
      " [ 0.97212315]]\n"
     ]
    }
   ],
   "source": [
    "y_pred = model.predict_classes(X_test)\n",
    "probability = model.predict_proba(X_test)\n",
    "\n",
    "print(y_pred)\n",
    "print(probability)"
   ]
  },
  {
   "cell_type": "code",
   "execution_count": 9,
   "metadata": {
    "collapsed": false
   },
   "outputs": [
    {
     "data": {
      "image/png": "[encoded data removed]",
      "text/plain": [
       "<matplotlib.figure.Figure at 0x7f0f3a0f0828>"
      ]
     },
     "metadata": {},
     "output_type": "display_data"
    }
   ],
   "source": [
    "import matplotlib.pyplot as plt\n",
    "\n",
    "def plot(inside, outside):\n",
    "    if inside.any():\n",
    "        plt.plot(inside[:, 0], inside[:, 1], 'bo')\n",
    "    if outside.any():\n",
    "        plt.plot(outside[:, 0], outside[:, 1], 'ro')\n",
    "    circle = plt.Circle((0, 0), radius=2, color='g', fill=False)\n",
    "    ax = plt.gca()\n",
    "    ax.set_aspect(1)\n",
    "    ax.add_patch(circle)\n",
    "    plt.show()\n",
    "\n",
    "points_test = X_test[:, :2]\n",
    "\n",
    "inside = np.array([x for x, y in zip(points_test, y_pred) if y == 0])\n",
    "outside = np.array([x for x, y in zip(points_test, y_pred) if y == 1])\n",
    "\n",
    "plot(inside, outside)"
   ]
  },
  {
   "cell_type": "markdown",
   "metadata": {},
   "source": [
    "## Funciones de costo disponibles\n",
    "\n",
    "* mean_squared_error\n",
    "* mean_absolute_error\n",
    "* mean_absolute_percentage_error\n",
    "* mean_squared_logarithmic_error\n",
    "* squared_hinge\n",
    "* hinge\n",
    "* binary_crossentropy\n",
    "* categorical_crossentropy\n",
    "* sparse_categorical_crossentropy\n",
    "* kullback_leibler_divergence\n",
    "* poisson\n",
    "* cosine_proximity\n",
    "\n",
    "## Optimizadores disponibles\n",
    "\n",
    "* SGD\n",
    "* RMSprop\n",
    "* Adagrad\n",
    "* Adadelta\n",
    "* Adam\n",
    "* Adamax\n",
    "* Nadam\n",
    "\n",
    "También se puede instanciar \"manualmente\" el optimizador para ajustar parámetros como la constante de aprendizaje, el momento y la desaceleración de la constante de aprendizaje:"
   ]
  },
  {
   "cell_type": "code",
   "execution_count": 10,
   "metadata": {
    "collapsed": false
   },
   "outputs": [],
   "source": [
    "from keras.optimizers import SGD\n",
    "\n",
    "model.compile(loss='binary_crossentropy', optimizer=SGD(lr=0.01, momentum=0.9, decay=0.001), metrics=['accuracy'])"
   ]
  },
  {
   "cell_type": "markdown",
   "metadata": {},
   "source": [
    "## Funciones de activación disponibles\n",
    "\n",
    "* softmax\n",
    "* softplus\n",
    "* softsign\n",
    "* relu\n",
    "* tanh\n",
    "* sigmoid\n",
    "* hard_sigmoid\n",
    "* linear\n",
    "\n",
    "## Compatibilidad con scikit-learn\n",
    "\n",
    "Keras provee una API para usar los modelos como si fueran parte de scikit-learn:"
   ]
  },
  {
   "cell_type": "code",
   "execution_count": 11,
   "metadata": {
    "collapsed": false
   },
   "outputs": [
    {
     "name": "stdout",
     "output_type": "stream",
     "text": [
      "Epoch 1/5\n",
      "8000/8000 [==============================] - 0s - loss: 0.1168 - acc: 0.9836     \n",
      "Epoch 2/5\n",
      "8000/8000 [==============================] - 0s - loss: 0.1020 - acc: 0.9870     \n",
      "Epoch 3/5\n",
      "8000/8000 [==============================] - 0s - loss: 0.0927 - acc: 0.9890     \n",
      "Epoch 4/5\n",
      "8000/8000 [==============================] - 0s - loss: 0.0864 - acc: 0.9905     \n",
      "Epoch 5/5\n",
      "8000/8000 [==============================] - 0s - loss: 0.0817 - acc: 0.9918     \n",
      "Epoch 1/5\n",
      "5333/5333 [==============================] - 0s - loss: 0.0786 - acc: 0.9891     \n",
      "Epoch 2/5\n",
      "5333/5333 [==============================] - 0s - loss: 0.0767 - acc: 0.9936     \n",
      "Epoch 3/5\n",
      "5333/5333 [==============================] - 0s - loss: 0.0747 - acc: 0.9921     \n",
      "Epoch 4/5\n",
      "5333/5333 [==============================] - 0s - loss: 0.0730 - acc: 0.9927     \n",
      "Epoch 5/5\n",
      "5333/5333 [==============================] - 0s - loss: 0.0716 - acc: 0.9923     \n",
      "2400/2667 [=========================>....] - ETA: 0sEpoch 1/5\n",
      "5333/5333 [==============================] - 0s - loss: 0.0697 - acc: 0.9944     \n",
      "Epoch 2/5\n",
      "5333/5333 [==============================] - 0s - loss: 0.0684 - acc: 0.9942     \n",
      "Epoch 3/5\n",
      "5333/5333 [==============================] - 0s - loss: 0.0674 - acc: 0.9925     \n",
      "Epoch 4/5\n",
      "5333/5333 [==============================] - 0s - loss: 0.0664 - acc: 0.9953     \n",
      "Epoch 5/5\n",
      "5333/5333 [==============================] - 0s - loss: 0.0656 - acc: 0.9951     \n",
      "1440/2667 [===============>..............] - ETA: 0sEpoch 1/5\n",
      "5334/5334 [==============================] - 0s - loss: 0.0661 - acc: 0.9921     \n",
      "Epoch 2/5\n",
      "5334/5334 [==============================] - 0s - loss: 0.0653 - acc: 0.9929     \n",
      "Epoch 3/5\n",
      "5334/5334 [==============================] - 0s - loss: 0.0645 - acc: 0.9918     \n",
      "Epoch 4/5\n",
      "5334/5334 [==============================] - 0s - loss: 0.0638 - acc: 0.9919     \n",
      "Epoch 5/5\n",
      "5334/5334 [==============================] - 0s - loss: 0.0633 - acc: 0.9927     \n",
      "1984/2666 [=====================>........] - ETA: 0s\n",
      "\n",
      "Acierto: 0.9918748434765234\n"
     ]
    }
   ],
   "source": [
    "from keras.wrappers import scikit_learn\n",
    "from sklearn import cross_validation\n",
    "\n",
    "classifier = scikit_learn.KerasClassifier(build_fn=lambda: model, nb_epoch=5)\n",
    "# build_fn debe devolver un modelo compilado.\n",
    "\n",
    "classifier.fit(X_train, y_train)\n",
    "\n",
    "kfold = cross_validation.StratifiedKFold(y=y_train, n_folds=3, shuffle=True)\n",
    "results = cross_validation.cross_val_score(classifier, X_train, y_train, cv=kfold)\n",
    "print()\n",
    "print()\n",
    "print('Acierto: {}'.format(results.mean()))"
   ]
  },
  {
   "cell_type": "markdown",
   "metadata": {},
   "source": [
    "También está disponible la clase `KerasRegressor`. Con esto se pueden hacer cosas como usar `GridSearchCV` para buscar la combinación de parámetros que mejoran los resultados (valores de la constante de aprendizaje, momento, etc), así como también construir un pipeline en donde el modelo puede tomar datos a partir de otros modelos de scikit-learn.\n",
    "\n",
    "## Ejemplo de análisis de sentimientos de comentarios de IMDb\n",
    "\n",
    "Este es un ejemplo en el que se usa Keras, aprovechando a mostrar más funcionalidades:"
   ]
  },
  {
   "cell_type": "code",
   "execution_count": 12,
   "metadata": {
    "collapsed": false
   },
   "outputs": [
    {
     "name": "stdout",
     "output_type": "stream",
     "text": [
      "Cargando datos...\n",
      "20000 train sequences\n",
      "5000 test sequences\n",
      "Pad sequences (ejemplos x tiempo)\n",
      "X_train shape: (20000, 100)\n",
      "X_test shape: (5000, 100)\n",
      "Construyendo el modelo...\n",
      "Entrenando...\n",
      "Train on 20000 samples, validate on 5000 samples\n",
      "Epoch 1/2\n",
      "20000/20000 [==============================] - 151s - loss: 0.4298 - acc: 0.7888 - val_loss: 0.3346 - val_acc: 0.8492\n",
      "Epoch 2/2\n",
      "20000/20000 [==============================] - 165s - loss: 0.2130 - acc: 0.9182 - val_loss: 0.3381 - val_acc: 0.8504\n",
      "5000/5000 [==============================] - 11s    \n",
      "Valor de la función de costo: 0.338069551766\n",
      "Acierto: 0.850399994493\n"
     ]
    }
   ],
   "source": [
    "from keras.preprocessing import sequence\n",
    "from keras.layers import Dropout\n",
    "from keras.layers import Embedding\n",
    "from keras.layers import LSTM, GRU, SimpleRNN\n",
    "from keras.layers import Convolution1D, MaxPooling1D\n",
    "from keras.datasets import imdb\n",
    "\n",
    "\n",
    "# Embedding\n",
    "max_features = 20000\n",
    "maxlen = 100\n",
    "embedding_size = 128\n",
    "\n",
    "# Convolution\n",
    "filter_length = 5\n",
    "nb_filter = 64\n",
    "pool_length = 4\n",
    "\n",
    "# LSTM\n",
    "lstm_output_size = 70\n",
    "\n",
    "# Training\n",
    "batch_size = 30\n",
    "nb_epoch = 2\n",
    "\n",
    "print('Cargando datos...')\n",
    "(X_train, y_train), (X_test, y_test) = imdb.load_data(nb_words=max_features)\n",
    "print(len(X_train), 'train sequences')\n",
    "print(len(X_test), 'test sequences')\n",
    "\n",
    "print('Pad sequences (ejemplos x tiempo)')\n",
    "X_train = sequence.pad_sequences(X_train, maxlen=maxlen)\n",
    "X_test = sequence.pad_sequences(X_test, maxlen=maxlen)\n",
    "print('X_train shape:', X_train.shape)\n",
    "print('X_test shape:', X_test.shape)\n",
    "\n",
    "print('Construyendo el modelo...')\n",
    "\n",
    "model = Sequential()\n",
    "model.add(Embedding(max_features, embedding_size, input_length=maxlen))\n",
    "model.add(Dropout(0.25))\n",
    "model.add(Convolution1D(nb_filter=nb_filter,\n",
    "                        filter_length=filter_length,\n",
    "                        border_mode='valid',\n",
    "                        activation='relu',\n",
    "                        subsample_length=1))\n",
    "model.add(MaxPooling1D(pool_length=pool_length))\n",
    "model.add(LSTM(lstm_output_size))\n",
    "model.add(Dense(1))\n",
    "model.add(Activation('sigmoid'))\n",
    "\n",
    "model.compile(loss='binary_crossentropy',\n",
    "              optimizer='adam',\n",
    "              metrics=['accuracy'])\n",
    "\n",
    "print('Entrenando...')\n",
    "model.fit(X_train, y_train, batch_size=batch_size, nb_epoch=nb_epoch,\n",
    "          validation_data=(X_test, y_test))\n",
    "score, acc = model.evaluate(X_test, y_test, batch_size=batch_size)\n",
    "print('Valor de la función de costo:', score)\n",
    "print('Acierto:', acc)"
   ]
  },
  {
   "cell_type": "markdown",
   "metadata": {
    "collapsed": false
   },
   "source": [
    "Desafortunadamente los datos de este ejemplo tienen solamente los índices de las palabras, así que no podemos probar el modelo con texto.\n",
    "\n",
    "## Capas disponibles\n",
    "\n",
    "Hay muchas capas disponibles. Se destacan:\n",
    "\n",
    "* `Dense`\n",
    "* `Activation`\n",
    "* `Merge`: permite combinar varias capas ya sea concatenándolas, sumándolas, etc.\n",
    "* `Reshape`\n",
    "* `Permute`\n",
    "* `RepeatVector`\n",
    "* Convolutivas\n",
    "* Recurrentes\n",
    "* `Embedding`: TODO\n",
    "* `BatchNormalization`: para dejar la norma de los vectores cercana a 0 y con desviación estándar cercana a 1.\n",
    "* Aquellas que agregan ruido con el objetivo de no sobreajustar.\n",
    "    * `Dropout`: TODO\n",
    "    * `GaussianNoise`: TODO\n",
    "    * `GaussianDropout`: TODO"
   ]
  },
  {
   "cell_type": "markdown",
   "metadata": {},
   "source": [
    "## Hay más\n",
    "\n",
    "Hay más cosas que se vieron poco acá pero que vale la pena mencionar que existen:\n",
    "\n",
    "* Usar TensorFlow en lugar de Theano como backend.\n",
    "* Aceleración de cálculos utiilizando la GPU.\n",
    "\n",
    "## Referencias\n",
    "\n",
    "* [Documentación de Keras](https://keras.io/).\n",
    "* "
   ]
  }
 ],
 "metadata": {
  "kernelspec": {
   "display_name": "Python 3",
   "language": "python",
   "name": "python3"
  },
  "language_info": {
   "codemirror_mode": {
    "name": "ipython",
    "version": 3
   },
   "file_extension": ".py",
   "mimetype": "text/x-python",
   "name": "python",
   "nbconvert_exporter": "python",
   "pygments_lexer": "ipython3",
   "version": "3.5.2"
  }
 },
 "nbformat": 4,
 "nbformat_minor": 0
}
