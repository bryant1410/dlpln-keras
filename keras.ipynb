{
 "cells": [
  {
   "cell_type": "markdown",
   "metadata": {
    "slideshow": {
     "slide_type": "slide"
    }
   },
   "source": [
    "# Keras\n",
    "\n",
    "Keras es una biblioteca para manipular redes neuronales. Es una capa de alto nivel por arriba de Theano (o de TensorFlow)."
   ]
  },
  {
   "cell_type": "markdown",
   "metadata": {
    "slideshow": {
     "slide_type": "slide"
    }
   },
   "source": [
    "## Ejemplo simple\n",
    "\n",
    "Construcción de una red neuronal:"
   ]
  },
  {
   "cell_type": "code",
   "execution_count": 79,
   "metadata": {
    "collapsed": false,
    "slideshow": {
     "slide_type": "subslide"
    }
   },
   "outputs": [],
   "source": [
    "%matplotlib inline\n",
    "from keras.layers import Dense\n",
    "from keras.models import Sequential\n",
    "\n",
    "model = Sequential()\n",
    "model.add(Dense(output_dim=2, input_dim=5, activation=\"sigmoid\"))\n",
    "model.add(Dense(output_dim=1, activation=\"sigmoid\"))"
   ]
  },
  {
   "cell_type": "markdown",
   "metadata": {
    "slideshow": {
     "slide_type": "subslide"
    }
   },
   "source": [
    "Podemos ver una descripción del modelo:"
   ]
  },
  {
   "cell_type": "code",
   "execution_count": 80,
   "metadata": {
    "collapsed": false,
    "slideshow": {
     "slide_type": "-"
    }
   },
   "outputs": [
    {
     "name": "stdout",
     "output_type": "stream",
     "text": [
      "____________________________________________________________________________________________________\n",
      "Layer (type)                     Output Shape          Param #     Connected to                     \n",
      "====================================================================================================\n",
      "dense_13 (Dense)                 (None, 2)             12          dense_input_5[0][0]              \n",
      "____________________________________________________________________________________________________\n",
      "dense_14 (Dense)                 (None, 1)             3           dense_13[0][0]                   \n",
      "====================================================================================================\n",
      "Total params: 15\n",
      "____________________________________________________________________________________________________\n"
     ]
    }
   ],
   "source": [
    "model.summary()"
   ]
  },
  {
   "cell_type": "markdown",
   "metadata": {
    "slideshow": {
     "slide_type": "subslide"
    }
   },
   "source": [
    "Así como también podemos visualizarlo:"
   ]
  },
  {
   "cell_type": "code",
   "execution_count": 81,
   "metadata": {
    "collapsed": false,
    "slideshow": {
     "slide_type": "-"
    }
   },
   "outputs": [
    {
     "data": {
      "image/svg+xml": [
       "<svg height=\"191pt\" viewBox=\"0.00 0.00 176.00 191.00\" width=\"176pt\" xmlns=\"http://www.w3.org/2000/svg\" xmlns:xlink=\"http://www.w3.org/1999/xlink\">\n",
       "<g class=\"graph\" id=\"graph0\" transform=\"scale(1 1) rotate(0) translate(4 187)\">\n",
       "<title>G</title>\n",
       "<polygon fill=\"white\" points=\"-4,4 -4,-187 172,-187 172,4 -4,4\" stroke=\"none\"/>\n",
       "<!-- 139779955179472 -->\n",
       "<g class=\"node\" id=\"node1\"><title>139779955179472</title>\n",
       "<polygon fill=\"none\" points=\"-1.42109e-14,-146.5 -1.42109e-14,-182.5 168,-182.5 168,-146.5 -1.42109e-14,-146.5\" stroke=\"black\"/>\n",
       "<text font-family=\"Times,serif\" font-size=\"14.00\" text-anchor=\"middle\" x=\"84\" y=\"-160.8\">dense_input_5 (InputLayer)</text>\n",
       "</g>\n",
       "<!-- 139779954193464 -->\n",
       "<g class=\"node\" id=\"node2\"><title>139779954193464</title>\n",
       "<polygon fill=\"none\" points=\"27,-73.5 27,-109.5 141,-109.5 141,-73.5 27,-73.5\" stroke=\"black\"/>\n",
       "<text font-family=\"Times,serif\" font-size=\"14.00\" text-anchor=\"middle\" x=\"84\" y=\"-87.8\">dense_13 (Dense)</text>\n",
       "</g>\n",
       "<!-- 139779955179472&#45;&gt;139779954193464 -->\n",
       "<g class=\"edge\" id=\"edge1\"><title>139779955179472-&gt;139779954193464</title>\n",
       "<path d=\"M84,-146.313C84,-138.289 84,-128.547 84,-119.569\" fill=\"none\" stroke=\"black\"/>\n",
       "<polygon fill=\"black\" points=\"87.5001,-119.529 84,-109.529 80.5001,-119.529 87.5001,-119.529\" stroke=\"black\"/>\n",
       "</g>\n",
       "<!-- 139779955220552 -->\n",
       "<g class=\"node\" id=\"node3\"><title>139779955220552</title>\n",
       "<polygon fill=\"none\" points=\"27,-0.5 27,-36.5 141,-36.5 141,-0.5 27,-0.5\" stroke=\"black\"/>\n",
       "<text font-family=\"Times,serif\" font-size=\"14.00\" text-anchor=\"middle\" x=\"84\" y=\"-14.8\">dense_14 (Dense)</text>\n",
       "</g>\n",
       "<!-- 139779954193464&#45;&gt;139779955220552 -->\n",
       "<g class=\"edge\" id=\"edge2\"><title>139779954193464-&gt;139779955220552</title>\n",
       "<path d=\"M84,-73.3129C84,-65.2895 84,-55.5475 84,-46.5691\" fill=\"none\" stroke=\"black\"/>\n",
       "<polygon fill=\"black\" points=\"87.5001,-46.5288 84,-36.5288 80.5001,-46.5289 87.5001,-46.5288\" stroke=\"black\"/>\n",
       "</g>\n",
       "</g>\n",
       "</svg>"
      ],
      "text/plain": [
       "<IPython.core.display.SVG object>"
      ]
     },
     "execution_count": 81,
     "metadata": {},
     "output_type": "execute_result"
    }
   ],
   "source": [
    "from IPython.display import SVG\n",
    "from keras.utils.visualize_util import model_to_dot\n",
    "\n",
    "SVG(model_to_dot(model).create(prog='dot', format='svg'))"
   ]
  },
  {
   "cell_type": "markdown",
   "metadata": {
    "slideshow": {
     "slide_type": "subslide"
    }
   },
   "source": [
    "Luego hay que compilar:"
   ]
  },
  {
   "cell_type": "code",
   "execution_count": 82,
   "metadata": {
    "collapsed": true
   },
   "outputs": [],
   "source": [
    "model.compile(loss='binary_crossentropy', optimizer='sgd', metrics=['accuracy'])"
   ]
  },
  {
   "cell_type": "markdown",
   "metadata": {
    "slideshow": {
     "slide_type": "subslide"
    }
   },
   "source": [
    "Usamos un conjunto de datos de ejemplo:"
   ]
  },
  {
   "cell_type": "code",
   "execution_count": 83,
   "metadata": {
    "collapsed": false,
    "slideshow": {
     "slide_type": "-"
    }
   },
   "outputs": [],
   "source": [
    "import numpy as np\n",
    "\n",
    "def dataset(n_train, n_test):\n",
    "    n = n_train + n_test\n",
    "    points = np.random.uniform(-3, 3, [n, 2])\n",
    "    features = np.c_[points, points[:, 0]**2, points[:, 1]**2, points[:, 0] * points[:, 1]]\n",
    "    labels = (np.linalg.norm(points, axis=1) > 2).astype(int)\n",
    "    return (features[:n_train], labels[:n_train]), (features[n_train:], labels[n_train:])\n",
    "\n",
    "(X_train, y_train), (X_test, y_test) = dataset(8000, 2000)"
   ]
  },
  {
   "cell_type": "markdown",
   "metadata": {
    "slideshow": {
     "slide_type": "subslide"
    }
   },
   "source": [
    "Entrenamos la red:"
   ]
  },
  {
   "cell_type": "code",
   "execution_count": 84,
   "metadata": {
    "collapsed": false
   },
   "outputs": [
    {
     "name": "stdout",
     "output_type": "stream",
     "text": [
      "Epoch 1/50\n",
      "8000/8000 [==============================] - 0s - loss: 0.7362 - acc: 0.4261     \n",
      "Epoch 2/50\n",
      "8000/8000 [==============================] - 0s - loss: 0.6680 - acc: 0.5556     \n",
      "Epoch 3/50\n",
      "8000/8000 [==============================] - 0s - loss: 0.6313 - acc: 0.6415     \n",
      "Epoch 4/50\n",
      "8000/8000 [==============================] - 0s - loss: 0.6026 - acc: 0.6461     \n",
      "Epoch 5/50\n",
      "8000/8000 [==============================] - 0s - loss: 0.5858 - acc: 0.6461     \n",
      "Epoch 6/50\n",
      "8000/8000 [==============================] - 0s - loss: 0.5725 - acc: 0.6461     \n",
      "Epoch 7/50\n",
      "8000/8000 [==============================] - 0s - loss: 0.5593 - acc: 0.6461     \n",
      "Epoch 8/50\n",
      "8000/8000 [==============================] - 0s - loss: 0.5454 - acc: 0.6461     \n",
      "Epoch 9/50\n",
      "8000/8000 [==============================] - 0s - loss: 0.5304 - acc: 0.6616     \n",
      "Epoch 10/50\n",
      "8000/8000 [==============================] - 0s - loss: 0.5143 - acc: 0.7059     \n",
      "Epoch 11/50\n",
      "8000/8000 [==============================] - 0s - loss: 0.4968 - acc: 0.7360     \n",
      "Epoch 12/50\n",
      "8000/8000 [==============================] - 0s - loss: 0.4780 - acc: 0.7723     \n",
      "Epoch 13/50\n",
      "8000/8000 [==============================] - 0s - loss: 0.4580 - acc: 0.7986     \n",
      "Epoch 14/50\n",
      "8000/8000 [==============================] - 0s - loss: 0.4374 - acc: 0.8245     \n",
      "Epoch 15/50\n",
      "8000/8000 [==============================] - 0s - loss: 0.4168 - acc: 0.8471     \n",
      "Epoch 16/50\n",
      "8000/8000 [==============================] - 0s - loss: 0.3967 - acc: 0.8641     \n",
      "Epoch 17/50\n",
      "8000/8000 [==============================] - 0s - loss: 0.3775 - acc: 0.8802     \n",
      "Epoch 18/50\n",
      "8000/8000 [==============================] - 0s - loss: 0.3593 - acc: 0.8908     \n",
      "Epoch 19/50\n",
      "8000/8000 [==============================] - 0s - loss: 0.3423 - acc: 0.9059     \n",
      "Epoch 20/50\n",
      "8000/8000 [==============================] - 0s - loss: 0.3262 - acc: 0.9139     \n",
      "Epoch 21/50\n",
      "8000/8000 [==============================] - 0s - loss: 0.3110 - acc: 0.9226     \n",
      "Epoch 22/50\n",
      "8000/8000 [==============================] - 0s - loss: 0.2966 - acc: 0.9289     \n",
      "Epoch 23/50\n",
      "8000/8000 [==============================] - 0s - loss: 0.2831 - acc: 0.9366     \n",
      "Epoch 24/50\n",
      "8000/8000 [==============================] - 0s - loss: 0.2704 - acc: 0.9405     \n",
      "Epoch 25/50\n",
      "8000/8000 [==============================] - 0s - loss: 0.2585 - acc: 0.9467     \n",
      "Epoch 26/50\n",
      "8000/8000 [==============================] - 0s - loss: 0.2475 - acc: 0.9506     \n",
      "Epoch 27/50\n",
      "8000/8000 [==============================] - 0s - loss: 0.2373 - acc: 0.9545     \n",
      "Epoch 28/50\n",
      "8000/8000 [==============================] - 0s - loss: 0.2280 - acc: 0.9591     \n",
      "Epoch 29/50\n",
      "8000/8000 [==============================] - 0s - loss: 0.2194 - acc: 0.9626     \n",
      "Epoch 30/50\n",
      "8000/8000 [==============================] - 0s - loss: 0.2114 - acc: 0.9631     \n",
      "Epoch 31/50\n",
      "8000/8000 [==============================] - 0s - loss: 0.2040 - acc: 0.9667     \n",
      "Epoch 32/50\n",
      "8000/8000 [==============================] - 0s - loss: 0.1970 - acc: 0.9683     \n",
      "Epoch 33/50\n",
      "8000/8000 [==============================] - 0s - loss: 0.1905 - acc: 0.9717     \n",
      "Epoch 34/50\n",
      "8000/8000 [==============================] - 0s - loss: 0.1844 - acc: 0.9744     \n",
      "Epoch 35/50\n",
      "8000/8000 [==============================] - 0s - loss: 0.1787 - acc: 0.9745     \n",
      "Epoch 36/50\n",
      "8000/8000 [==============================] - 0s - loss: 0.1733 - acc: 0.9754     \n",
      "Epoch 37/50\n",
      "8000/8000 [==============================] - 0s - loss: 0.1682 - acc: 0.9780     \n",
      "Epoch 38/50\n",
      "8000/8000 [==============================] - 0s - loss: 0.1633 - acc: 0.9779     \n",
      "Epoch 39/50\n",
      "8000/8000 [==============================] - 0s - loss: 0.1587 - acc: 0.9793     \n",
      "Epoch 40/50\n",
      "8000/8000 [==============================] - 0s - loss: 0.1543 - acc: 0.9786     \n",
      "Epoch 41/50\n",
      "8000/8000 [==============================] - 0s - loss: 0.1501 - acc: 0.9803     \n",
      "Epoch 42/50\n",
      "8000/8000 [==============================] - 0s - loss: 0.1460 - acc: 0.9815     \n",
      "Epoch 43/50\n",
      "8000/8000 [==============================] - 0s - loss: 0.1420 - acc: 0.9809     \n",
      "Epoch 44/50\n",
      "8000/8000 [==============================] - 0s - loss: 0.1381 - acc: 0.9848     \n",
      "Epoch 45/50\n",
      "8000/8000 [==============================] - 0s - loss: 0.1342 - acc: 0.9824     \n",
      "Epoch 46/50\n",
      "8000/8000 [==============================] - 0s - loss: 0.1302 - acc: 0.9853     \n",
      "Epoch 47/50\n",
      "8000/8000 [==============================] - 0s - loss: 0.1262 - acc: 0.9848     \n",
      "Epoch 48/50\n",
      "8000/8000 [==============================] - 0s - loss: 0.1224 - acc: 0.9860     \n",
      "Epoch 49/50\n",
      "8000/8000 [==============================] - 0s - loss: 0.1188 - acc: 0.9846     \n",
      "Epoch 50/50\n",
      "8000/8000 [==============================] - 0s - loss: 0.1156 - acc: 0.9880     \n"
     ]
    },
    {
     "data": {
      "text/plain": [
       "<keras.callbacks.History at 0x7f20ad4bf978>"
      ]
     },
     "execution_count": 84,
     "metadata": {},
     "output_type": "execute_result"
    }
   ],
   "source": [
    "model.fit(X_train, y_train, nb_epoch=50, batch_size=32)"
   ]
  },
  {
   "cell_type": "markdown",
   "metadata": {
    "slideshow": {
     "slide_type": "subslide"
    }
   },
   "source": [
    "Podemos evaluar y ver métricas:"
   ]
  },
  {
   "cell_type": "code",
   "execution_count": 85,
   "metadata": {
    "collapsed": false
   },
   "outputs": [
    {
     "name": "stdout",
     "output_type": "stream",
     "text": [
      "2000/2000 [==============================] - 0s     \n",
      "\n",
      "\n",
      "Valor de la función de costo: 0.111558535993\n",
      "Acierto: 0.983\n"
     ]
    }
   ],
   "source": [
    "loss_and_metrics = model.evaluate(X_test, y_test, batch_size=32)\n",
    "print()\n",
    "print()\n",
    "print('Valor de la función de costo:', loss_and_metrics[0])\n",
    "print('Acierto:', loss_and_metrics[1])"
   ]
  },
  {
   "cell_type": "markdown",
   "metadata": {
    "slideshow": {
     "slide_type": "subslide"
    }
   },
   "source": [
    "Y también podemos ver las clases predecidas y sus probablidades:"
   ]
  },
  {
   "cell_type": "code",
   "execution_count": 86,
   "metadata": {
    "collapsed": false
   },
   "outputs": [
    {
     "name": "stdout",
     "output_type": "stream",
     "text": [
      "1760/2000 [=========================>....] - ETA: 0s\n",
      "[[1]\n",
      " [0]\n",
      " [1]\n",
      " ..., \n",
      " [0]\n",
      " [1]\n",
      " [1]]\n",
      "[[ 0.90671945]\n",
      " [ 0.0555241 ]\n",
      " [ 0.98214972]\n",
      " ..., \n",
      " [ 0.11941245]\n",
      " [ 0.97730196]\n",
      " [ 0.90484691]]\n"
     ]
    }
   ],
   "source": [
    "y_pred = model.predict_classes(X_test)\n",
    "probability = model.predict_proba(X_test)\n",
    "print()\n",
    "print(y_pred)\n",
    "print(probability)"
   ]
  },
  {
   "cell_type": "code",
   "execution_count": 87,
   "metadata": {
    "collapsed": false,
    "slideshow": {
     "slide_type": "subslide"
    }
   },
   "outputs": [
    {
     "data": {
      "image/png": "[encoded data removed]",
      "text/plain": [
       "<matplotlib.figure.Figure at 0x7f210eaeca20>"
      ]
     },
     "metadata": {},
     "output_type": "display_data"
    }
   ],
   "source": [
    "import matplotlib.pyplot as plt\n",
    "\n",
    "def plot(inside, outside):\n",
    "    if inside.any():\n",
    "        plt.plot(inside[:, 0], inside[:, 1], 'bo')\n",
    "    if outside.any():\n",
    "        plt.plot(outside[:, 0], outside[:, 1], 'ro')\n",
    "    circle = plt.Circle((0, 0), radius=2, color='g', fill=False)\n",
    "    ax = plt.gca()\n",
    "    ax.set_aspect(1)\n",
    "    ax.add_patch(circle)\n",
    "    plt.show()\n",
    "\n",
    "points_test = X_test[:, :2]\n",
    "\n",
    "inside = np.array([x for x, y in zip(points_test, y_pred) if y == 0])\n",
    "outside = np.array([x for x, y in zip(points_test, y_pred) if y == 1])\n",
    "\n",
    "plot(inside, outside)"
   ]
  },
  {
   "cell_type": "markdown",
   "metadata": {
    "slideshow": {
     "slide_type": "slide"
    }
   },
   "source": [
    "## Funciones de costo disponibles\n",
    "\n",
    "* mean_squared_error\n",
    "* mean_absolute_error\n",
    "* mean_absolute_percentage_error\n",
    "* mean_squared_logarithmic_error\n",
    "* squared_hinge\n",
    "* hinge\n",
    "* binary_crossentropy\n",
    "* categorical_crossentropy\n",
    "* sparse_categorical_crossentropy\n",
    "* kullback_leibler_divergence\n",
    "* poisson\n",
    "* cosine_proximity"
   ]
  },
  {
   "cell_type": "markdown",
   "metadata": {
    "slideshow": {
     "slide_type": "slide"
    }
   },
   "source": [
    "## Optimizadores disponibles\n",
    "\n",
    "* SGD\n",
    "* RMSprop\n",
    "* Adagrad\n",
    "* Adadelta\n",
    "* Adam\n",
    "* Adamax\n",
    "* Nadam"
   ]
  },
  {
   "cell_type": "markdown",
   "metadata": {
    "slideshow": {
     "slide_type": "subslide"
    }
   },
   "source": [
    "También se puede instanciar \"manualmente\" el optimizador para ajustar parámetros como la constante de aprendizaje, el momento y la desaceleración de la constante de aprendizaje:"
   ]
  },
  {
   "cell_type": "code",
   "execution_count": 88,
   "metadata": {
    "collapsed": false,
    "slideshow": {
     "slide_type": "-"
    }
   },
   "outputs": [],
   "source": [
    "from keras.optimizers import SGD\n",
    "\n",
    "model.compile(loss='binary_crossentropy', optimizer=SGD(lr=0.01, momentum=0.9, decay=0.001), metrics=['accuracy'])"
   ]
  },
  {
   "cell_type": "markdown",
   "metadata": {
    "slideshow": {
     "slide_type": "slide"
    }
   },
   "source": [
    "## Funciones de activación disponibles\n",
    "\n",
    "* softmax\n",
    "* softplus\n",
    "* softsign\n",
    "* relu\n",
    "* tanh\n",
    "* sigmoid\n",
    "* hard_sigmoid\n",
    "* linear"
   ]
  },
  {
   "cell_type": "markdown",
   "metadata": {
    "slideshow": {
     "slide_type": "slide"
    }
   },
   "source": [
    "## Compatibilidad con scikit-learn\n",
    "\n",
    "Keras provee una API para usar los modelos como si fueran parte de scikit-learn."
   ]
  },
  {
   "cell_type": "code",
   "execution_count": 89,
   "metadata": {
    "collapsed": false,
    "slideshow": {
     "slide_type": "subslide"
    }
   },
   "outputs": [
    {
     "name": "stdout",
     "output_type": "stream",
     "text": [
      "Epoch 1/5\n",
      "8000/8000 [==============================] - 0s - loss: 0.1041 - acc: 0.9882     \n",
      "Epoch 2/5\n",
      "8000/8000 [==============================] - 0s - loss: 0.0892 - acc: 0.9924     \n",
      "Epoch 3/5\n",
      "8000/8000 [==============================] - 0s - loss: 0.0808 - acc: 0.9923     \n",
      "Epoch 4/5\n",
      "8000/8000 [==============================] - 0s - loss: 0.0752 - acc: 0.9923     \n",
      "Epoch 5/5\n",
      "8000/8000 [==============================] - 0s - loss: 0.0709 - acc: 0.9946     \n",
      "Epoch 1/5\n",
      "5333/5333 [==============================] - 0s - loss: 0.0679 - acc: 0.9944     \n",
      "Epoch 2/5\n",
      "5333/5333 [==============================] - 0s - loss: 0.0663 - acc: 0.9946     \n",
      "Epoch 3/5\n",
      "5333/5333 [==============================] - 0s - loss: 0.0647 - acc: 0.9949     \n",
      "Epoch 4/5\n",
      "5333/5333 [==============================] - 0s - loss: 0.0632 - acc: 0.9936     \n",
      "Epoch 5/5\n",
      "5333/5333 [==============================] - 0s - loss: 0.0620 - acc: 0.9946     \n",
      "1984/2667 [=====================>........] - ETA: 0sEpoch 1/5\n",
      "5333/5333 [==============================] - 0s - loss: 0.0605 - acc: 0.9953     \n",
      "Epoch 2/5\n",
      "5333/5333 [==============================] - 0s - loss: 0.0594 - acc: 0.9961     \n",
      "Epoch 3/5\n",
      "5333/5333 [==============================] - 0s - loss: 0.0586 - acc: 0.9949     \n",
      "Epoch 4/5\n",
      "5333/5333 [==============================] - 0s - loss: 0.0577 - acc: 0.9957     \n",
      "Epoch 5/5\n",
      "5333/5333 [==============================] - 0s - loss: 0.0571 - acc: 0.9953     \n",
      "1472/2667 [===============>..............] - ETA: 0sEpoch 1/5\n",
      "5334/5334 [==============================] - 0s - loss: 0.0572 - acc: 0.9961     \n",
      "Epoch 2/5\n",
      "5334/5334 [==============================] - 0s - loss: 0.0563 - acc: 0.9963     \n",
      "Epoch 3/5\n",
      "5334/5334 [==============================] - 0s - loss: 0.0558 - acc: 0.9983     \n",
      "Epoch 4/5\n",
      "5334/5334 [==============================] - 0s - loss: 0.0553 - acc: 0.9966     \n",
      "Epoch 5/5\n",
      "5334/5334 [==============================] - 0s - loss: 0.0547 - acc: 0.9972     \n",
      "1376/2666 [==============>...............] - ETA: 0s"
     ]
    }
   ],
   "source": [
    "from keras.wrappers import scikit_learn\n",
    "from sklearn import cross_validation\n",
    "\n",
    "classifier = scikit_learn.KerasClassifier(build_fn=lambda: model, nb_epoch=5)\n",
    "# build_fn debe devolver un modelo compilado.\n",
    "\n",
    "classifier.fit(X_train, y_train)\n",
    "\n",
    "kfold = cross_validation.StratifiedKFold(y=y_train, n_folds=3, shuffle=True)\n",
    "results = cross_validation.cross_val_score(classifier, X_train, y_train, cv=kfold)"
   ]
  },
  {
   "cell_type": "code",
   "execution_count": 90,
   "metadata": {
    "collapsed": false,
    "slideshow": {
     "slide_type": "subslide"
    }
   },
   "outputs": [
    {
     "name": "stdout",
     "output_type": "stream",
     "text": [
      "Acierto: 0.996625140537\n"
     ]
    }
   ],
   "source": [
    "print('Acierto:', results.mean())"
   ]
  },
  {
   "cell_type": "markdown",
   "metadata": {
    "slideshow": {
     "slide_type": "subslide"
    }
   },
   "source": [
    "También está disponible la clase `KerasRegressor`. Con esto se pueden hacer cosas como usar `GridSearchCV` para buscar la combinación de parámetros que mejoran los resultados (valores de la constante de aprendizaje, momento, etc), así como también construir un pipeline en donde el modelo puede tomar datos a partir de otros modelos de scikit-learn."
   ]
  },
  {
   "cell_type": "markdown",
   "metadata": {
    "slideshow": {
     "slide_type": "slide"
    }
   },
   "source": [
    "## Ejemplo de análisis de sentimientos de comentarios de IMDb\n",
    "\n",
    "Este es un ejemplo que aprovecha a mostrar más funcionalidades."
   ]
  },
  {
   "cell_type": "markdown",
   "metadata": {
    "slideshow": {
     "slide_type": "subslide"
    }
   },
   "source": [
    "Se comienza estableciendo algunos parámetros:"
   ]
  },
  {
   "cell_type": "code",
   "execution_count": 91,
   "metadata": {
    "collapsed": false
   },
   "outputs": [],
   "source": [
    "from keras.preprocessing import sequence\n",
    "from keras.layers import Dropout\n",
    "from keras.layers import Embedding\n",
    "from keras.layers import LSTM, GRU, SimpleRNN\n",
    "from keras.layers import Convolution1D, MaxPooling1D\n",
    "from keras.datasets import imdb\n",
    "\n",
    "\n",
    "# Embedding\n",
    "max_features = 20000\n",
    "maxlen = 100\n",
    "embedding_size = 128\n",
    "\n",
    "# Convolution\n",
    "filter_length = 5\n",
    "nb_filter = 64\n",
    "pool_length = 4\n",
    "\n",
    "# LSTM\n",
    "lstm_output_size = 70\n",
    "\n",
    "# Training\n",
    "batch_size = 30\n",
    "nb_epoch = 2"
   ]
  },
  {
   "cell_type": "markdown",
   "metadata": {
    "slideshow": {
     "slide_type": "subslide"
    }
   },
   "source": [
    "Se cargan los datos:"
   ]
  },
  {
   "cell_type": "code",
   "execution_count": 92,
   "metadata": {
    "collapsed": false
   },
   "outputs": [
    {
     "name": "stdout",
     "output_type": "stream",
     "text": [
      "Cargando datos...\n",
      "20000 ejemplos de entrenamiento\n",
      "5000 ejemplos de evaluación\n"
     ]
    }
   ],
   "source": [
    "print('Cargando datos...')\n",
    "(X_train, y_train), (X_test, y_test) = imdb.load_data(nb_words=max_features)\n",
    "print(len(X_train), 'ejemplos de entrenamiento')\n",
    "print(len(X_test), 'ejemplos de evaluación')"
   ]
  },
  {
   "cell_type": "markdown",
   "metadata": {
    "slideshow": {
     "slide_type": "subslide"
    }
   },
   "source": [
    "Veamos dos de los ejemplos:"
   ]
  },
  {
   "cell_type": "code",
   "execution_count": 93,
   "metadata": {
    "collapsed": false,
    "scrolled": false
   },
   "outputs": [
    {
     "name": "stdout",
     "output_type": "stream",
     "text": [
      "[1, 621, 6, 135, 101, 84, 392, 27, 20, 133, 1522, 63, 6401, 6843, 896, 11, 213, 149, 9, 417, 180, 1748, 32, 63, 31, 525, 7, 78, 42, 147, 66, 644, 113, 89, 8, 21, 147, 89, 13, 1851, 3994, 43, 170, 6, 60, 21, 296, 35, 1310, 214, 6, 789, 7146, 7, 15, 16, 12, 14, 15, 16, 12, 14, 5, 927, 10, 5, 6843, 13, 62, 23, 652, 25, 2046, 927, 7, 73, 574, 49, 5, 6843, 1264, 56, 135, 46, 38, 6, 5, 191, 342, 10, 14274, 10, 6843, 16849, 2572, 13, 627, 7, 412, 18, 361, 6, 20, 11393, 342, 17222, 45, 241, 382, 5, 28, 7, 15, 16, 12, 14, 15, 16, 12, 14, 5, 132, 18, 5, 28, 24, 3773, 209, 6, 2380, 61, 6, 2082, 146, 10885, 6, 2962, 146, 1003, 6, 523, 146, 910, 6, 99, 7, 19, 165, 266, 53, 23, 460, 6, 29, 33, 199, 190, 11, 41, 286, 8436, 11, 186, 17, 7, 5, 78, 1522, 24, 89, 33, 4317, 17, 551, 1851, 3994, 43, 37, 240, 40, 635, 9, 189, 331, 4183, 45, 5, 2, 6, 102, 37, 24, 5, 137, 18, 5, 757, 7, 15, 16, 12, 14, 15, 16, 12, 14, 25, 26, 212, 63, 20, 30, 13, 36, 11, 41, 635, 636, 7, 53, 230, 35, 212, 43, 46, 199, 6843, 26, 2539, 61, 1401, 7, 5, 453, 4693, 231, 112, 40, 93, 4232, 27, 9, 5926, 2, 56, 127, 7, 78, 124, 20, 30, 18, 9, 3245, 617, 2806, 6, 911, 19, 66, 82, 64, 681, 4058, 11, 5, 1324, 7]\n",
      "\n",
      "[1, 19, 101, 186, 17, 9, 243, 3850, 7, 295, 17, 23, 57, 102, 19, 158, 131, 129, 9, 9201, 328, 32, 3071, 4423, 43, 31, 6, 29, 19, 57, 107, 35, 94, 100, 17, 52, 9, 192, 10, 97, 95, 101, 7, 5, 1969, 13, 80, 103, 171, 25, 2175, 19621, 9, 4563, 6, 9, 154, 21, 313, 18, 72, 447, 193, 76, 19, 160, 5864, 43]\n"
     ]
    }
   ],
   "source": [
    "print(X_train[1])\n",
    "print()\n",
    "print(X_train[16])"
   ]
  },
  {
   "cell_type": "markdown",
   "metadata": {
    "slideshow": {
     "slide_type": "subslide"
    }
   },
   "source": [
    "Cada ejemplo es una secuencia de índices. Se transforman a vectores de largo fijo, rellenando con ceros:"
   ]
  },
  {
   "cell_type": "code",
   "execution_count": 94,
   "metadata": {
    "collapsed": false
   },
   "outputs": [
    {
     "name": "stdout",
     "output_type": "stream",
     "text": [
      "Tamaño de X_train: (20000, 100)\n",
      "Tamaño de X_test: (5000, 100)\n"
     ]
    }
   ],
   "source": [
    "X_train = sequence.pad_sequences(X_train, maxlen=maxlen)\n",
    "X_test = sequence.pad_sequences(X_test, maxlen=maxlen)\n",
    "print('Tamaño de X_train:', X_train.shape)\n",
    "print('Tamaño de X_test:', X_test.shape)"
   ]
  },
  {
   "cell_type": "markdown",
   "metadata": {
    "slideshow": {
     "slide_type": "subslide"
    }
   },
   "source": [
    "Los mismos dos ejemplos ahora:"
   ]
  },
  {
   "cell_type": "code",
   "execution_count": 95,
   "metadata": {
    "collapsed": false
   },
   "outputs": [
    {
     "name": "stdout",
     "output_type": "stream",
     "text": [
      "[  24   89   33 4317   17  551 1851 3994   43   37  240   40  635    9  189\n",
      "  331 4183   45    5    2    6  102   37   24    5  137   18    5  757    7\n",
      "   15   16   12   14   15   16   12   14   25   26  212   63   20   30   13\n",
      "   36   11   41  635  636    7   53  230   35  212   43   46  199 6843   26\n",
      " 2539   61 1401    7    5  453 4693  231  112   40   93 4232   27    9 5926\n",
      "    2   56  127    7   78  124   20   30   18    9 3245  617 2806    6  911\n",
      "   19   66   82   64  681 4058   11    5 1324    7]\n",
      "\n",
      "[    0     0     0     0     0     0     0     0     0     0     0     0\n",
      "     0     0     0     0     0     0     0     0     0     0     0     0\n",
      "     0     0     0     0     0     0     0     0     1    19   101   186\n",
      "    17     9   243  3850     7   295    17    23    57   102    19   158\n",
      "   131   129     9  9201   328    32  3071  4423    43    31     6    29\n",
      "    19    57   107    35    94   100    17    52     9   192    10    97\n",
      "    95   101     7     5  1969    13    80   103   171    25  2175 19621\n",
      "     9  4563     6     9   154    21   313    18    72   447   193    76\n",
      "    19   160  5864    43]\n"
     ]
    }
   ],
   "source": [
    "print(X_train[1])\n",
    "print()\n",
    "print(X_train[16])"
   ]
  },
  {
   "cell_type": "markdown",
   "metadata": {
    "slideshow": {
     "slide_type": "subslide"
    }
   },
   "source": [
    "Ahora construimos un modelo:"
   ]
  },
  {
   "cell_type": "code",
   "execution_count": 96,
   "metadata": {
    "collapsed": false
   },
   "outputs": [],
   "source": [
    "model = Sequential()\n",
    "model.add(Embedding(max_features, embedding_size, input_length=maxlen))\n",
    "model.add(Dropout(0.25))\n",
    "model.add(Convolution1D(nb_filter=nb_filter,\n",
    "                        filter_length=filter_length,\n",
    "                        border_mode='valid',\n",
    "                        activation='relu',\n",
    "                        subsample_length=1))\n",
    "model.add(MaxPooling1D(pool_length=pool_length))\n",
    "model.add(LSTM(lstm_output_size))\n",
    "model.add(Dense(1))\n",
    "model.add(Activation('sigmoid'))\n",
    "\n",
    "model.compile(loss='binary_crossentropy',\n",
    "              optimizer='adam',\n",
    "              metrics=['accuracy'])"
   ]
  },
  {
   "cell_type": "markdown",
   "metadata": {
    "slideshow": {
     "slide_type": "subslide"
    }
   },
   "source": [
    "Visualización"
   ]
  },
  {
   "cell_type": "code",
   "execution_count": 97,
   "metadata": {
    "collapsed": false
   },
   "outputs": [
    {
     "data": {
      "image/svg+xml": [
       "<svg height=\"556pt\" viewBox=\"0.00 0.00 214.00 556.00\" width=\"214pt\" xmlns=\"http://www.w3.org/2000/svg\" xmlns:xlink=\"http://www.w3.org/1999/xlink\">\n",
       "<g class=\"graph\" id=\"graph0\" transform=\"scale(1 1) rotate(0) translate(4 552)\">\n",
       "<title>G</title>\n",
       "<polygon fill=\"white\" points=\"-4,4 -4,-552 210,-552 210,4 -4,4\" stroke=\"none\"/>\n",
       "<!-- 139778312346704 -->\n",
       "<g class=\"node\" id=\"node1\"><title>139778312346704</title>\n",
       "<polygon fill=\"none\" points=\"4,-511.5 4,-547.5 202,-547.5 202,-511.5 4,-511.5\" stroke=\"black\"/>\n",
       "<text font-family=\"Times,serif\" font-size=\"14.00\" text-anchor=\"middle\" x=\"103\" y=\"-525.8\">embedding_input_1 (InputLayer)</text>\n",
       "</g>\n",
       "<!-- 139778312346760 -->\n",
       "<g class=\"node\" id=\"node2\"><title>139778312346760</title>\n",
       "<polygon fill=\"none\" points=\"19.5,-438.5 19.5,-474.5 186.5,-474.5 186.5,-438.5 19.5,-438.5\" stroke=\"black\"/>\n",
       "<text font-family=\"Times,serif\" font-size=\"14.00\" text-anchor=\"middle\" x=\"103\" y=\"-452.8\">embedding_1 (Embedding)</text>\n",
       "</g>\n",
       "<!-- 139778312346704&#45;&gt;139778312346760 -->\n",
       "<g class=\"edge\" id=\"edge1\"><title>139778312346704-&gt;139778312346760</title>\n",
       "<path d=\"M103,-511.313C103,-503.289 103,-493.547 103,-484.569\" fill=\"none\" stroke=\"black\"/>\n",
       "<polygon fill=\"black\" points=\"106.5,-484.529 103,-474.529 99.5001,-484.529 106.5,-484.529\" stroke=\"black\"/>\n",
       "</g>\n",
       "<!-- 139778312346648 -->\n",
       "<g class=\"node\" id=\"node3\"><title>139778312346648</title>\n",
       "<polygon fill=\"none\" points=\"38,-365.5 38,-401.5 168,-401.5 168,-365.5 38,-365.5\" stroke=\"black\"/>\n",
       "<text font-family=\"Times,serif\" font-size=\"14.00\" text-anchor=\"middle\" x=\"103\" y=\"-379.8\">dropout_7 (Dropout)</text>\n",
       "</g>\n",
       "<!-- 139778312346760&#45;&gt;139778312346648 -->\n",
       "<g class=\"edge\" id=\"edge2\"><title>139778312346760-&gt;139778312346648</title>\n",
       "<path d=\"M103,-438.313C103,-430.289 103,-420.547 103,-411.569\" fill=\"none\" stroke=\"black\"/>\n",
       "<polygon fill=\"black\" points=\"106.5,-411.529 103,-401.529 99.5001,-411.529 106.5,-411.529\" stroke=\"black\"/>\n",
       "</g>\n",
       "<!-- 139778311905520 -->\n",
       "<g class=\"node\" id=\"node4\"><title>139778311905520</title>\n",
       "<polygon fill=\"none\" points=\"0.5,-292.5 0.5,-328.5 205.5,-328.5 205.5,-292.5 0.5,-292.5\" stroke=\"black\"/>\n",
       "<text font-family=\"Times,serif\" font-size=\"14.00\" text-anchor=\"middle\" x=\"103\" y=\"-306.8\">convolution1d_1 (Convolution1D)</text>\n",
       "</g>\n",
       "<!-- 139778312346648&#45;&gt;139778311905520 -->\n",
       "<g class=\"edge\" id=\"edge3\"><title>139778312346648-&gt;139778311905520</title>\n",
       "<path d=\"M103,-365.313C103,-357.289 103,-347.547 103,-338.569\" fill=\"none\" stroke=\"black\"/>\n",
       "<polygon fill=\"black\" points=\"106.5,-338.529 103,-328.529 99.5001,-338.529 106.5,-338.529\" stroke=\"black\"/>\n",
       "</g>\n",
       "<!-- 139778311906976 -->\n",
       "<g class=\"node\" id=\"node5\"><title>139778311906976</title>\n",
       "<polygon fill=\"none\" points=\"0,-219.5 0,-255.5 206,-255.5 206,-219.5 0,-219.5\" stroke=\"black\"/>\n",
       "<text font-family=\"Times,serif\" font-size=\"14.00\" text-anchor=\"middle\" x=\"103\" y=\"-233.8\">maxpooling1d_1 (MaxPooling1D)</text>\n",
       "</g>\n",
       "<!-- 139778311905520&#45;&gt;139778311906976 -->\n",
       "<g class=\"edge\" id=\"edge4\"><title>139778311905520-&gt;139778311906976</title>\n",
       "<path d=\"M103,-292.313C103,-284.289 103,-274.547 103,-265.569\" fill=\"none\" stroke=\"black\"/>\n",
       "<polygon fill=\"black\" points=\"106.5,-265.529 103,-255.529 99.5001,-265.529 106.5,-265.529\" stroke=\"black\"/>\n",
       "</g>\n",
       "<!-- 139778317505648 -->\n",
       "<g class=\"node\" id=\"node6\"><title>139778317505648</title>\n",
       "<polygon fill=\"none\" points=\"51,-146.5 51,-182.5 155,-182.5 155,-146.5 51,-146.5\" stroke=\"black\"/>\n",
       "<text font-family=\"Times,serif\" font-size=\"14.00\" text-anchor=\"middle\" x=\"103\" y=\"-160.8\">lstm_1 (LSTM)</text>\n",
       "</g>\n",
       "<!-- 139778311906976&#45;&gt;139778317505648 -->\n",
       "<g class=\"edge\" id=\"edge5\"><title>139778311906976-&gt;139778317505648</title>\n",
       "<path d=\"M103,-219.313C103,-211.289 103,-201.547 103,-192.569\" fill=\"none\" stroke=\"black\"/>\n",
       "<polygon fill=\"black\" points=\"106.5,-192.529 103,-182.529 99.5001,-192.529 106.5,-192.529\" stroke=\"black\"/>\n",
       "</g>\n",
       "<!-- 139778317483704 -->\n",
       "<g class=\"node\" id=\"node7\"><title>139778317483704</title>\n",
       "<polygon fill=\"none\" points=\"46,-73.5 46,-109.5 160,-109.5 160,-73.5 46,-73.5\" stroke=\"black\"/>\n",
       "<text font-family=\"Times,serif\" font-size=\"14.00\" text-anchor=\"middle\" x=\"103\" y=\"-87.8\">dense_15 (Dense)</text>\n",
       "</g>\n",
       "<!-- 139778317505648&#45;&gt;139778317483704 -->\n",
       "<g class=\"edge\" id=\"edge6\"><title>139778317505648-&gt;139778317483704</title>\n",
       "<path d=\"M103,-146.313C103,-138.289 103,-128.547 103,-119.569\" fill=\"none\" stroke=\"black\"/>\n",
       "<polygon fill=\"black\" points=\"106.5,-119.529 103,-109.529 99.5001,-119.529 106.5,-119.529\" stroke=\"black\"/>\n",
       "</g>\n",
       "<!-- 139778318297520 -->\n",
       "<g class=\"node\" id=\"node8\"><title>139778318297520</title>\n",
       "<polygon fill=\"none\" points=\"23,-0.5 23,-36.5 183,-36.5 183,-0.5 23,-0.5\" stroke=\"black\"/>\n",
       "<text font-family=\"Times,serif\" font-size=\"14.00\" text-anchor=\"middle\" x=\"103\" y=\"-14.8\">activation_13 (Activation)</text>\n",
       "</g>\n",
       "<!-- 139778317483704&#45;&gt;139778318297520 -->\n",
       "<g class=\"edge\" id=\"edge7\"><title>139778317483704-&gt;139778318297520</title>\n",
       "<path d=\"M103,-73.3129C103,-65.2895 103,-55.5475 103,-46.5691\" fill=\"none\" stroke=\"black\"/>\n",
       "<polygon fill=\"black\" points=\"106.5,-46.5288 103,-36.5288 99.5001,-46.5289 106.5,-46.5288\" stroke=\"black\"/>\n",
       "</g>\n",
       "</g>\n",
       "</svg>"
      ],
      "text/plain": [
       "<IPython.core.display.SVG object>"
      ]
     },
     "execution_count": 97,
     "metadata": {},
     "output_type": "execute_result"
    }
   ],
   "source": [
    "SVG(model_to_dot(model).create(prog='dot', format='svg'))"
   ]
  },
  {
   "cell_type": "markdown",
   "metadata": {
    "slideshow": {
     "slide_type": "subslide"
    }
   },
   "source": [
    "Lo entrenamos y evaluamos:"
   ]
  },
  {
   "cell_type": "code",
   "execution_count": 98,
   "metadata": {
    "collapsed": false
   },
   "outputs": [
    {
     "name": "stdout",
     "output_type": "stream",
     "text": [
      "Entrenando...\n",
      "Train on 20000 samples, validate on 5000 samples\n",
      "Epoch 1/2\n",
      "20000/20000 [==============================] - 137s - loss: 0.4298 - acc: 0.7888 - val_loss: 0.3346 - val_acc: 0.8492\n",
      "Epoch 2/2\n",
      "20000/20000 [==============================] - 138s - loss: 0.2130 - acc: 0.9182 - val_loss: 0.3381 - val_acc: 0.8504\n",
      "5000/5000 [==============================] - 9s     \n",
      "Valor de la función de costo: 0.338069551766\n",
      "Acierto: 0.850399994493\n"
     ]
    }
   ],
   "source": [
    "print('Entrenando...')\n",
    "model.fit(X_train, y_train, batch_size=batch_size, nb_epoch=nb_epoch,\n",
    "          validation_data=(X_test, y_test))\n",
    "score, acc = model.evaluate(X_test, y_test, batch_size=batch_size)\n",
    "print('Valor de la función de costo:', score)\n",
    "print('Acierto:', acc)"
   ]
  },
  {
   "cell_type": "markdown",
   "metadata": {
    "collapsed": false,
    "slideshow": {
     "slide_type": "subslide"
    }
   },
   "source": [
    "Desafortunadamente los datos de este ejemplo tienen solamente los índices de las palabras, así que no podemos probar el modelo con texto."
   ]
  },
  {
   "cell_type": "markdown",
   "metadata": {
    "slideshow": {
     "slide_type": "slide"
    }
   },
   "source": [
    "## Capas disponibles\n",
    "\n",
    "Hay muchas capas disponibles. Se destacan:\n",
    "\n",
    "* `Dense`\n",
    "* `Activation`\n",
    "* `Merge`: permite combinar varias capas ya sea concatenándolas, sumándolas, etc.\n",
    "* `Reshape`\n",
    "* `Permute`\n",
    "* `RepeatVector`\n",
    "* Convolutivas (incluídas las de Pooling)\n",
    "* Recurrentes (incluyendo `LSTM`)\n",
    "* `Embedding`: permite representar con vectores de dimensión fija a números naturales de un rango dado (índices). Los pesos que se entrenan en esta capa son las entradas de la matriz que hace corresponder vectores a índices (que oficia de tabla de look-up).\n",
    "* `BatchNormalization`: para dejar la norma de los vectores cercana a 0 y con desviación estándar cercana a 1.\n",
    "* Aquellas que agregan ruido con el objetivo de no sobreajustar:\n",
    "    * `Dropout`: Inhibe aleatoria una fracción `p` de las entradas.\n",
    "    * `GaussianNoise`: Agrega un ruido gaussiano a la entrada."
   ]
  },
  {
   "cell_type": "markdown",
   "metadata": {
    "slideshow": {
     "slide_type": "slide"
    }
   },
   "source": [
    "## Otro ejemplo\n",
    "\n",
    "Clasificación de imágenes."
   ]
  },
  {
   "cell_type": "code",
   "execution_count": 99,
   "metadata": {
    "collapsed": false,
    "slideshow": {
     "slide_type": "subslide"
    }
   },
   "outputs": [],
   "source": [
    "from keras.datasets import cifar10\n",
    "from keras.preprocessing.image import ImageDataGenerator\n",
    "from keras.models import Sequential\n",
    "from keras.layers import Dense, Dropout, Activation, Flatten\n",
    "from keras.layers import Convolution2D, MaxPooling2D\n",
    "from keras.optimizers import SGD\n",
    "from keras.utils import np_utils\n",
    "\n",
    "batch_size = 32\n",
    "nb_classes = 10\n",
    "nb_epoch = 1\n",
    "data_augmentation = False\n",
    "\n",
    "# input image dimensions\n",
    "img_rows, img_cols = 32, 32\n",
    "# the CIFAR10 images are RGB\n",
    "img_channels = 3"
   ]
  },
  {
   "cell_type": "code",
   "execution_count": 100,
   "metadata": {
    "collapsed": false,
    "slideshow": {
     "slide_type": "subslide"
    }
   },
   "outputs": [
    {
     "name": "stdout",
     "output_type": "stream",
     "text": [
      "Dimensión de X_train: (50000, 3, 32, 32)\n",
      "50000 ejemplos de entrenamiento\n",
      "10000 ejemplos de evaluación\n",
      "\n",
      "X_train[0]: [[[ 59  43  50 ..., 158 152 148]\n",
      "  [ 16   0  18 ..., 123 119 122]\n",
      "  [ 25  16  49 ..., 118 120 109]\n",
      "  ..., \n",
      "  [208 201 198 ..., 160  56  53]\n",
      "  [180 173 186 ..., 184  97  83]\n",
      "  [177 168 179 ..., 216 151 123]]\n",
      "\n",
      " [[ 62  46  48 ..., 132 125 124]\n",
      "  [ 20   0   8 ...,  88  83  87]\n",
      "  [ 24   7  27 ...,  84  84  73]\n",
      "  ..., \n",
      "  [170 153 161 ..., 133  31  34]\n",
      "  [139 123 144 ..., 148  62  53]\n",
      "  [144 129 142 ..., 184 118  92]]\n",
      "\n",
      " [[ 63  45  43 ..., 108 102 103]\n",
      "  [ 20   0   0 ...,  55  50  57]\n",
      "  [ 21   0   8 ...,  50  50  42]\n",
      "  ..., \n",
      "  [ 96  34  26 ...,  70   7  20]\n",
      "  [ 96  42  30 ...,  94  34  34]\n",
      "  [116  94  87 ..., 140  84  72]]]\n"
     ]
    }
   ],
   "source": [
    "(X_train, y_train), (X_test, y_test) = cifar10.load_data()\n",
    "print('Dimensión de X_train:', X_train.shape)\n",
    "print(X_train.shape[0], 'ejemplos de entrenamiento')\n",
    "print(X_test.shape[0], 'ejemplos de evaluación')\n",
    "print()\n",
    "print('X_train[0]:', X_train[0])"
   ]
  },
  {
   "cell_type": "code",
   "execution_count": 101,
   "metadata": {
    "collapsed": false,
    "slideshow": {
     "slide_type": "subslide"
    }
   },
   "outputs": [
    {
     "name": "stdout",
     "output_type": "stream",
     "text": [
      "y_train[0]: [6]\n",
      "y_train[1]: [9]\n"
     ]
    }
   ],
   "source": [
    "print('y_train[0]:', y_train[0])\n",
    "print('y_train[1]:', y_train[1])"
   ]
  },
  {
   "cell_type": "markdown",
   "metadata": {
    "slideshow": {
     "slide_type": "subslide"
    }
   },
   "source": [
    "Transformamos las etiquetas a one-hot encoding:"
   ]
  },
  {
   "cell_type": "code",
   "execution_count": 102,
   "metadata": {
    "collapsed": false
   },
   "outputs": [
    {
     "name": "stdout",
     "output_type": "stream",
     "text": [
      "Y_train[0]: [ 0.  0.  0.  0.  0.  0.  1.  0.  0.  0.]\n",
      "Y_train[1]: [ 0.  0.  0.  0.  0.  0.  0.  0.  0.  1.]\n"
     ]
    }
   ],
   "source": [
    "Y_train = np_utils.to_categorical(y_train, nb_classes)\n",
    "Y_test = np_utils.to_categorical(y_test, nb_classes)\n",
    "\n",
    "print('Y_train[0]:', Y_train[0])\n",
    "print('Y_train[1]:', Y_train[1])"
   ]
  },
  {
   "cell_type": "code",
   "execution_count": 103,
   "metadata": {
    "collapsed": false,
    "slideshow": {
     "slide_type": "subslide"
    }
   },
   "outputs": [],
   "source": [
    "model = Sequential()\n",
    "\n",
    "model.add(Convolution2D(32, 3, 3, border_mode='same', input_shape=(img_channels, img_rows, img_cols)))\n",
    "model.add(Activation('relu'))\n",
    "model.add(Convolution2D(32, 3, 3))\n",
    "model.add(Activation('relu'))\n",
    "model.add(MaxPooling2D(pool_size=(2, 2)))\n",
    "model.add(Dropout(0.25))\n",
    "\n",
    "model.add(Convolution2D(64, 3, 3, border_mode='same'))\n",
    "model.add(Activation('relu'))\n",
    "model.add(Convolution2D(64, 3, 3))\n",
    "model.add(Activation('relu'))\n",
    "model.add(MaxPooling2D(pool_size=(2, 2)))\n",
    "model.add(Dropout(0.25))\n",
    "\n",
    "model.add(Flatten())\n",
    "model.add(Dense(512))\n",
    "model.add(Activation('relu'))\n",
    "model.add(Dropout(0.5))\n",
    "model.add(Dense(nb_classes))\n",
    "model.add(Activation('softmax'))\n",
    "\n",
    "sgd = SGD(lr=0.01, decay=1e-6, momentum=0.9, nesterov=True)\n",
    "model.compile(loss='categorical_crossentropy', optimizer=sgd, metrics=['accuracy'])"
   ]
  },
  {
   "cell_type": "code",
   "execution_count": 104,
   "metadata": {
    "collapsed": false,
    "slideshow": {
     "slide_type": "subslide"
    }
   },
   "outputs": [
    {
     "data": {
      "image/svg+xml": [
       "<svg height=\"1359pt\" viewBox=\"0.00 0.00 223.00 1359.00\" width=\"223pt\" xmlns=\"http://www.w3.org/2000/svg\" xmlns:xlink=\"http://www.w3.org/1999/xlink\">\n",
       "<g class=\"graph\" id=\"graph0\" transform=\"scale(1 1) rotate(0) translate(4 1355)\">\n",
       "<title>G</title>\n",
       "<polygon fill=\"white\" points=\"-4,4 -4,-1355 219,-1355 219,4 -4,4\" stroke=\"none\"/>\n",
       "<!-- 139778977198600 -->\n",
       "<g class=\"node\" id=\"node1\"><title>139778977198600</title>\n",
       "<polygon fill=\"none\" points=\"0,-1314.5 0,-1350.5 215,-1350.5 215,-1314.5 0,-1314.5\" stroke=\"black\"/>\n",
       "<text font-family=\"Times,serif\" font-size=\"14.00\" text-anchor=\"middle\" x=\"107.5\" y=\"-1328.8\">convolution2d_input_3 (InputLayer)</text>\n",
       "</g>\n",
       "<!-- 139778977098552 -->\n",
       "<g class=\"node\" id=\"node2\"><title>139778977098552</title>\n",
       "<polygon fill=\"none\" points=\"5,-1241.5 5,-1277.5 210,-1277.5 210,-1241.5 5,-1241.5\" stroke=\"black\"/>\n",
       "<text font-family=\"Times,serif\" font-size=\"14.00\" text-anchor=\"middle\" x=\"107.5\" y=\"-1255.8\">convolution2d_9 (Convolution2D)</text>\n",
       "</g>\n",
       "<!-- 139778977198600&#45;&gt;139778977098552 -->\n",
       "<g class=\"edge\" id=\"edge1\"><title>139778977198600-&gt;139778977098552</title>\n",
       "<path d=\"M107.5,-1314.31C107.5,-1306.29 107.5,-1296.55 107.5,-1287.57\" fill=\"none\" stroke=\"black\"/>\n",
       "<polygon fill=\"black\" points=\"111,-1287.53 107.5,-1277.53 104,-1287.53 111,-1287.53\" stroke=\"black\"/>\n",
       "</g>\n",
       "<!-- 139778977200336 -->\n",
       "<g class=\"node\" id=\"node3\"><title>139778977200336</title>\n",
       "<polygon fill=\"none\" points=\"27.5,-1168.5 27.5,-1204.5 187.5,-1204.5 187.5,-1168.5 27.5,-1168.5\" stroke=\"black\"/>\n",
       "<text font-family=\"Times,serif\" font-size=\"14.00\" text-anchor=\"middle\" x=\"107.5\" y=\"-1182.8\">activation_14 (Activation)</text>\n",
       "</g>\n",
       "<!-- 139778977098552&#45;&gt;139778977200336 -->\n",
       "<g class=\"edge\" id=\"edge2\"><title>139778977098552-&gt;139778977200336</title>\n",
       "<path d=\"M107.5,-1241.31C107.5,-1233.29 107.5,-1223.55 107.5,-1214.57\" fill=\"none\" stroke=\"black\"/>\n",
       "<polygon fill=\"black\" points=\"111,-1214.53 107.5,-1204.53 104,-1214.53 111,-1214.53\" stroke=\"black\"/>\n",
       "</g>\n",
       "<!-- 139778946596816 -->\n",
       "<g class=\"node\" id=\"node4\"><title>139778946596816</title>\n",
       "<polygon fill=\"none\" points=\"1.5,-1095.5 1.5,-1131.5 213.5,-1131.5 213.5,-1095.5 1.5,-1095.5\" stroke=\"black\"/>\n",
       "<text font-family=\"Times,serif\" font-size=\"14.00\" text-anchor=\"middle\" x=\"107.5\" y=\"-1109.8\">convolution2d_10 (Convolution2D)</text>\n",
       "</g>\n",
       "<!-- 139778977200336&#45;&gt;139778946596816 -->\n",
       "<g class=\"edge\" id=\"edge3\"><title>139778977200336-&gt;139778946596816</title>\n",
       "<path d=\"M107.5,-1168.31C107.5,-1160.29 107.5,-1150.55 107.5,-1141.57\" fill=\"none\" stroke=\"black\"/>\n",
       "<polygon fill=\"black\" points=\"111,-1141.53 107.5,-1131.53 104,-1141.53 111,-1141.53\" stroke=\"black\"/>\n",
       "</g>\n",
       "<!-- 139778946451048 -->\n",
       "<g class=\"node\" id=\"node5\"><title>139778946451048</title>\n",
       "<polygon fill=\"none\" points=\"27.5,-1022.5 27.5,-1058.5 187.5,-1058.5 187.5,-1022.5 27.5,-1022.5\" stroke=\"black\"/>\n",
       "<text font-family=\"Times,serif\" font-size=\"14.00\" text-anchor=\"middle\" x=\"107.5\" y=\"-1036.8\">activation_15 (Activation)</text>\n",
       "</g>\n",
       "<!-- 139778946596816&#45;&gt;139778946451048 -->\n",
       "<g class=\"edge\" id=\"edge4\"><title>139778946596816-&gt;139778946451048</title>\n",
       "<path d=\"M107.5,-1095.31C107.5,-1087.29 107.5,-1077.55 107.5,-1068.57\" fill=\"none\" stroke=\"black\"/>\n",
       "<polygon fill=\"black\" points=\"111,-1068.53 107.5,-1058.53 104,-1068.53 111,-1068.53\" stroke=\"black\"/>\n",
       "</g>\n",
       "<!-- 139778946452336 -->\n",
       "<g class=\"node\" id=\"node6\"><title>139778946452336</title>\n",
       "<polygon fill=\"none\" points=\"4.5,-949.5 4.5,-985.5 210.5,-985.5 210.5,-949.5 4.5,-949.5\" stroke=\"black\"/>\n",
       "<text font-family=\"Times,serif\" font-size=\"14.00\" text-anchor=\"middle\" x=\"107.5\" y=\"-963.8\">maxpooling2d_5 (MaxPooling2D)</text>\n",
       "</g>\n",
       "<!-- 139778946451048&#45;&gt;139778946452336 -->\n",
       "<g class=\"edge\" id=\"edge5\"><title>139778946451048-&gt;139778946452336</title>\n",
       "<path d=\"M107.5,-1022.31C107.5,-1014.29 107.5,-1004.55 107.5,-995.569\" fill=\"none\" stroke=\"black\"/>\n",
       "<polygon fill=\"black\" points=\"111,-995.529 107.5,-985.529 104,-995.529 111,-995.529\" stroke=\"black\"/>\n",
       "</g>\n",
       "<!-- 139778946511368 -->\n",
       "<g class=\"node\" id=\"node7\"><title>139778946511368</title>\n",
       "<polygon fill=\"none\" points=\"42.5,-876.5 42.5,-912.5 172.5,-912.5 172.5,-876.5 42.5,-876.5\" stroke=\"black\"/>\n",
       "<text font-family=\"Times,serif\" font-size=\"14.00\" text-anchor=\"middle\" x=\"107.5\" y=\"-890.8\">dropout_8 (Dropout)</text>\n",
       "</g>\n",
       "<!-- 139778946452336&#45;&gt;139778946511368 -->\n",
       "<g class=\"edge\" id=\"edge6\"><title>139778946452336-&gt;139778946511368</title>\n",
       "<path d=\"M107.5,-949.313C107.5,-941.289 107.5,-931.547 107.5,-922.569\" fill=\"none\" stroke=\"black\"/>\n",
       "<polygon fill=\"black\" points=\"111,-922.529 107.5,-912.529 104,-922.529 111,-922.529\" stroke=\"black\"/>\n",
       "</g>\n",
       "<!-- 139778946512936 -->\n",
       "<g class=\"node\" id=\"node8\"><title>139778946512936</title>\n",
       "<polygon fill=\"none\" points=\"1.5,-803.5 1.5,-839.5 213.5,-839.5 213.5,-803.5 1.5,-803.5\" stroke=\"black\"/>\n",
       "<text font-family=\"Times,serif\" font-size=\"14.00\" text-anchor=\"middle\" x=\"107.5\" y=\"-817.8\">convolution2d_11 (Convolution2D)</text>\n",
       "</g>\n",
       "<!-- 139778946511368&#45;&gt;139778946512936 -->\n",
       "<g class=\"edge\" id=\"edge7\"><title>139778946511368-&gt;139778946512936</title>\n",
       "<path d=\"M107.5,-876.313C107.5,-868.289 107.5,-858.547 107.5,-849.569\" fill=\"none\" stroke=\"black\"/>\n",
       "<polygon fill=\"black\" points=\"111,-849.529 107.5,-839.529 104,-849.529 111,-849.529\" stroke=\"black\"/>\n",
       "</g>\n",
       "<!-- 139779899318056 -->\n",
       "<g class=\"node\" id=\"node9\"><title>139779899318056</title>\n",
       "<polygon fill=\"none\" points=\"27.5,-730.5 27.5,-766.5 187.5,-766.5 187.5,-730.5 27.5,-730.5\" stroke=\"black\"/>\n",
       "<text font-family=\"Times,serif\" font-size=\"14.00\" text-anchor=\"middle\" x=\"107.5\" y=\"-744.8\">activation_16 (Activation)</text>\n",
       "</g>\n",
       "<!-- 139778946512936&#45;&gt;139779899318056 -->\n",
       "<g class=\"edge\" id=\"edge8\"><title>139778946512936-&gt;139779899318056</title>\n",
       "<path d=\"M107.5,-803.313C107.5,-795.289 107.5,-785.547 107.5,-776.569\" fill=\"none\" stroke=\"black\"/>\n",
       "<polygon fill=\"black\" points=\"111,-776.529 107.5,-766.529 104,-776.529 111,-776.529\" stroke=\"black\"/>\n",
       "</g>\n",
       "<!-- 139778946560240 -->\n",
       "<g class=\"node\" id=\"node10\"><title>139778946560240</title>\n",
       "<polygon fill=\"none\" points=\"1.5,-657.5 1.5,-693.5 213.5,-693.5 213.5,-657.5 1.5,-657.5\" stroke=\"black\"/>\n",
       "<text font-family=\"Times,serif\" font-size=\"14.00\" text-anchor=\"middle\" x=\"107.5\" y=\"-671.8\">convolution2d_12 (Convolution2D)</text>\n",
       "</g>\n",
       "<!-- 139779899318056&#45;&gt;139778946560240 -->\n",
       "<g class=\"edge\" id=\"edge9\"><title>139779899318056-&gt;139778946560240</title>\n",
       "<path d=\"M107.5,-730.313C107.5,-722.289 107.5,-712.547 107.5,-703.569\" fill=\"none\" stroke=\"black\"/>\n",
       "<polygon fill=\"black\" points=\"111,-703.529 107.5,-693.529 104,-703.529 111,-703.529\" stroke=\"black\"/>\n",
       "</g>\n",
       "<!-- 139778946561976 -->\n",
       "<g class=\"node\" id=\"node11\"><title>139778946561976</title>\n",
       "<polygon fill=\"none\" points=\"27.5,-584.5 27.5,-620.5 187.5,-620.5 187.5,-584.5 27.5,-584.5\" stroke=\"black\"/>\n",
       "<text font-family=\"Times,serif\" font-size=\"14.00\" text-anchor=\"middle\" x=\"107.5\" y=\"-598.8\">activation_17 (Activation)</text>\n",
       "</g>\n",
       "<!-- 139778946560240&#45;&gt;139778946561976 -->\n",
       "<g class=\"edge\" id=\"edge10\"><title>139778946560240-&gt;139778946561976</title>\n",
       "<path d=\"M107.5,-657.313C107.5,-649.289 107.5,-639.547 107.5,-630.569\" fill=\"none\" stroke=\"black\"/>\n",
       "<polygon fill=\"black\" points=\"111,-630.529 107.5,-620.529 104,-630.529 111,-630.529\" stroke=\"black\"/>\n",
       "</g>\n",
       "<!-- 139778946434496 -->\n",
       "<g class=\"node\" id=\"node12\"><title>139778946434496</title>\n",
       "<polygon fill=\"none\" points=\"4.5,-511.5 4.5,-547.5 210.5,-547.5 210.5,-511.5 4.5,-511.5\" stroke=\"black\"/>\n",
       "<text font-family=\"Times,serif\" font-size=\"14.00\" text-anchor=\"middle\" x=\"107.5\" y=\"-525.8\">maxpooling2d_6 (MaxPooling2D)</text>\n",
       "</g>\n",
       "<!-- 139778946561976&#45;&gt;139778946434496 -->\n",
       "<g class=\"edge\" id=\"edge11\"><title>139778946561976-&gt;139778946434496</title>\n",
       "<path d=\"M107.5,-584.313C107.5,-576.289 107.5,-566.547 107.5,-557.569\" fill=\"none\" stroke=\"black\"/>\n",
       "<polygon fill=\"black\" points=\"111,-557.529 107.5,-547.529 104,-557.529 111,-557.529\" stroke=\"black\"/>\n",
       "</g>\n",
       "<!-- 139779208963576 -->\n",
       "<g class=\"node\" id=\"node13\"><title>139779208963576</title>\n",
       "<polygon fill=\"none\" points=\"42.5,-438.5 42.5,-474.5 172.5,-474.5 172.5,-438.5 42.5,-438.5\" stroke=\"black\"/>\n",
       "<text font-family=\"Times,serif\" font-size=\"14.00\" text-anchor=\"middle\" x=\"107.5\" y=\"-452.8\">dropout_9 (Dropout)</text>\n",
       "</g>\n",
       "<!-- 139778946434496&#45;&gt;139779208963576 -->\n",
       "<g class=\"edge\" id=\"edge12\"><title>139778946434496-&gt;139779208963576</title>\n",
       "<path d=\"M107.5,-511.313C107.5,-503.289 107.5,-493.547 107.5,-484.569\" fill=\"none\" stroke=\"black\"/>\n",
       "<polygon fill=\"black\" points=\"111,-484.529 107.5,-474.529 104,-484.529 111,-484.529\" stroke=\"black\"/>\n",
       "</g>\n",
       "<!-- 139779208963856 -->\n",
       "<g class=\"node\" id=\"node14\"><title>139779208963856</title>\n",
       "<polygon fill=\"none\" points=\"50,-365.5 50,-401.5 165,-401.5 165,-365.5 50,-365.5\" stroke=\"black\"/>\n",
       "<text font-family=\"Times,serif\" font-size=\"14.00\" text-anchor=\"middle\" x=\"107.5\" y=\"-379.8\">flatten_3 (Flatten)</text>\n",
       "</g>\n",
       "<!-- 139779208963576&#45;&gt;139779208963856 -->\n",
       "<g class=\"edge\" id=\"edge13\"><title>139779208963576-&gt;139779208963856</title>\n",
       "<path d=\"M107.5,-438.313C107.5,-430.289 107.5,-420.547 107.5,-411.569\" fill=\"none\" stroke=\"black\"/>\n",
       "<polygon fill=\"black\" points=\"111,-411.529 107.5,-401.529 104,-411.529 111,-411.529\" stroke=\"black\"/>\n",
       "</g>\n",
       "<!-- 139779209053520 -->\n",
       "<g class=\"node\" id=\"node15\"><title>139779209053520</title>\n",
       "<polygon fill=\"none\" points=\"50.5,-292.5 50.5,-328.5 164.5,-328.5 164.5,-292.5 50.5,-292.5\" stroke=\"black\"/>\n",
       "<text font-family=\"Times,serif\" font-size=\"14.00\" text-anchor=\"middle\" x=\"107.5\" y=\"-306.8\">dense_16 (Dense)</text>\n",
       "</g>\n",
       "<!-- 139779208963856&#45;&gt;139779209053520 -->\n",
       "<g class=\"edge\" id=\"edge14\"><title>139779208963856-&gt;139779209053520</title>\n",
       "<path d=\"M107.5,-365.313C107.5,-357.289 107.5,-347.547 107.5,-338.569\" fill=\"none\" stroke=\"black\"/>\n",
       "<polygon fill=\"black\" points=\"111,-338.529 107.5,-328.529 104,-338.529 111,-338.529\" stroke=\"black\"/>\n",
       "</g>\n",
       "<!-- 139779209087128 -->\n",
       "<g class=\"node\" id=\"node16\"><title>139779209087128</title>\n",
       "<polygon fill=\"none\" points=\"27.5,-219.5 27.5,-255.5 187.5,-255.5 187.5,-219.5 27.5,-219.5\" stroke=\"black\"/>\n",
       "<text font-family=\"Times,serif\" font-size=\"14.00\" text-anchor=\"middle\" x=\"107.5\" y=\"-233.8\">activation_18 (Activation)</text>\n",
       "</g>\n",
       "<!-- 139779209053520&#45;&gt;139779209087128 -->\n",
       "<g class=\"edge\" id=\"edge15\"><title>139779209053520-&gt;139779209087128</title>\n",
       "<path d=\"M107.5,-292.313C107.5,-284.289 107.5,-274.547 107.5,-265.569\" fill=\"none\" stroke=\"black\"/>\n",
       "<polygon fill=\"black\" points=\"111,-265.529 107.5,-255.529 104,-265.529 111,-265.529\" stroke=\"black\"/>\n",
       "</g>\n",
       "<!-- 139779209085560 -->\n",
       "<g class=\"node\" id=\"node17\"><title>139779209085560</title>\n",
       "<polygon fill=\"none\" points=\"39,-146.5 39,-182.5 176,-182.5 176,-146.5 39,-146.5\" stroke=\"black\"/>\n",
       "<text font-family=\"Times,serif\" font-size=\"14.00\" text-anchor=\"middle\" x=\"107.5\" y=\"-160.8\">dropout_10 (Dropout)</text>\n",
       "</g>\n",
       "<!-- 139779209087128&#45;&gt;139779209085560 -->\n",
       "<g class=\"edge\" id=\"edge16\"><title>139779209087128-&gt;139779209085560</title>\n",
       "<path d=\"M107.5,-219.313C107.5,-211.289 107.5,-201.547 107.5,-192.569\" fill=\"none\" stroke=\"black\"/>\n",
       "<polygon fill=\"black\" points=\"111,-192.529 107.5,-182.529 104,-192.529 111,-192.529\" stroke=\"black\"/>\n",
       "</g>\n",
       "<!-- 139779209053072 -->\n",
       "<g class=\"node\" id=\"node18\"><title>139779209053072</title>\n",
       "<polygon fill=\"none\" points=\"50.5,-73.5 50.5,-109.5 164.5,-109.5 164.5,-73.5 50.5,-73.5\" stroke=\"black\"/>\n",
       "<text font-family=\"Times,serif\" font-size=\"14.00\" text-anchor=\"middle\" x=\"107.5\" y=\"-87.8\">dense_17 (Dense)</text>\n",
       "</g>\n",
       "<!-- 139779209085560&#45;&gt;139779209053072 -->\n",
       "<g class=\"edge\" id=\"edge17\"><title>139779209085560-&gt;139779209053072</title>\n",
       "<path d=\"M107.5,-146.313C107.5,-138.289 107.5,-128.547 107.5,-119.569\" fill=\"none\" stroke=\"black\"/>\n",
       "<polygon fill=\"black\" points=\"111,-119.529 107.5,-109.529 104,-119.529 111,-119.529\" stroke=\"black\"/>\n",
       "</g>\n",
       "<!-- 139779202965176 -->\n",
       "<g class=\"node\" id=\"node19\"><title>139779202965176</title>\n",
       "<polygon fill=\"none\" points=\"27.5,-0.5 27.5,-36.5 187.5,-36.5 187.5,-0.5 27.5,-0.5\" stroke=\"black\"/>\n",
       "<text font-family=\"Times,serif\" font-size=\"14.00\" text-anchor=\"middle\" x=\"107.5\" y=\"-14.8\">activation_19 (Activation)</text>\n",
       "</g>\n",
       "<!-- 139779209053072&#45;&gt;139779202965176 -->\n",
       "<g class=\"edge\" id=\"edge18\"><title>139779209053072-&gt;139779202965176</title>\n",
       "<path d=\"M107.5,-73.3129C107.5,-65.2895 107.5,-55.5475 107.5,-46.5691\" fill=\"none\" stroke=\"black\"/>\n",
       "<polygon fill=\"black\" points=\"111,-46.5288 107.5,-36.5288 104,-46.5289 111,-46.5288\" stroke=\"black\"/>\n",
       "</g>\n",
       "</g>\n",
       "</svg>"
      ],
      "text/plain": [
       "<IPython.core.display.SVG object>"
      ]
     },
     "execution_count": 104,
     "metadata": {},
     "output_type": "execute_result"
    }
   ],
   "source": [
    "SVG(model_to_dot(model).create(prog='dot', format='svg'))"
   ]
  },
  {
   "cell_type": "markdown",
   "metadata": {
    "slideshow": {
     "slide_type": "subslide"
    }
   },
   "source": [
    "Cambiamos el intervalo de los datos a [0, 1]:"
   ]
  },
  {
   "cell_type": "code",
   "execution_count": 105,
   "metadata": {
    "collapsed": true
   },
   "outputs": [],
   "source": [
    "X_train = X_train.astype('float32')\n",
    "X_test = X_test.astype('float32')\n",
    "X_train /= 255\n",
    "X_test /= 255"
   ]
  },
  {
   "cell_type": "code",
   "execution_count": 106,
   "metadata": {
    "collapsed": false,
    "slideshow": {
     "slide_type": "subslide"
    }
   },
   "outputs": [
    {
     "name": "stdout",
     "output_type": "stream",
     "text": [
      "Train on 50000 samples, validate on 10000 samples\n",
      "Epoch 1/1\n",
      "50000/50000 [==============================] - 898s - loss: 1.7448 - acc: 0.3547 - val_loss: 1.2809 - val_acc: 0.5377\n"
     ]
    }
   ],
   "source": [
    "if not data_augmentation:\n",
    "    model.fit(X_train, Y_train, batch_size=batch_size, nb_epoch=nb_epoch,\n",
    "              validation_data=(X_test, Y_test), shuffle=True)\n",
    "else:\n",
    "    datagen = ImageDataGenerator(\n",
    "        featurewise_center=False,  # set input mean to 0 over the dataset\n",
    "        samplewise_center=False,  # set each sample mean to 0\n",
    "        featurewise_std_normalization=False,  # divide inputs by std of the dataset\n",
    "        samplewise_std_normalization=False,  # divide each input by its std\n",
    "        zca_whitening=False,  # apply ZCA whitening\n",
    "        rotation_range=0,  # randomly rotate images in the range (degrees, 0 to 180)\n",
    "        width_shift_range=0.1,  # randomly shift images horizontally (fraction of total width)\n",
    "        height_shift_range=0.1,  # randomly shift images vertically (fraction of total height)\n",
    "        horizontal_flip=True,  # randomly flip images\n",
    "        vertical_flip=False)  # randomly flip images\n",
    "\n",
    "    # compute quantities required for featurewise normalization\n",
    "    # (std, mean, and principal components if ZCA whitening is applied)\n",
    "    datagen.fit(X_train)\n",
    "\n",
    "    model.fit_generator(datagen.flow(X_train, Y_train, batch_size=batch_size),\n",
    "                        samples_per_epoch=X_train.shape[0], nb_epoch=nb_epoch,\n",
    "                        validation_data=(X_test, Y_test))"
   ]
  },
  {
   "cell_type": "markdown",
   "metadata": {
    "slideshow": {
     "slide_type": "subslide"
    }
   },
   "source": [
    "### Otra arquitectura de red para el mismo ejemplo"
   ]
  },
  {
   "cell_type": "code",
   "execution_count": 107,
   "metadata": {
    "collapsed": false,
    "slideshow": {
     "slide_type": "subslide"
    }
   },
   "outputs": [
    {
     "data": {
      "image/svg+xml": [
       "<svg height=\"191pt\" viewBox=\"0.00 0.00 176.00 191.00\" width=\"176pt\" xmlns=\"http://www.w3.org/2000/svg\" xmlns:xlink=\"http://www.w3.org/1999/xlink\">\n",
       "<g class=\"graph\" id=\"graph0\" transform=\"scale(1 1) rotate(0) translate(4 187)\">\n",
       "<title>G</title>\n",
       "<polygon fill=\"white\" points=\"-4,4 -4,-187 172,-187 172,4 -4,4\" stroke=\"none\"/>\n",
       "<!-- 139778157395416 -->\n",
       "<g class=\"node\" id=\"node1\"><title>139778157395416</title>\n",
       "<polygon fill=\"none\" points=\"-1.42109e-14,-146.5 -1.42109e-14,-182.5 168,-182.5 168,-146.5 -1.42109e-14,-146.5\" stroke=\"black\"/>\n",
       "<text font-family=\"Times,serif\" font-size=\"14.00\" text-anchor=\"middle\" x=\"84\" y=\"-160.8\">dense_input_6 (InputLayer)</text>\n",
       "</g>\n",
       "<!-- 139778157393736 -->\n",
       "<g class=\"node\" id=\"node2\"><title>139778157393736</title>\n",
       "<polygon fill=\"none\" points=\"27,-73.5 27,-109.5 141,-109.5 141,-73.5 27,-73.5\" stroke=\"black\"/>\n",
       "<text font-family=\"Times,serif\" font-size=\"14.00\" text-anchor=\"middle\" x=\"84\" y=\"-87.8\">dense_18 (Dense)</text>\n",
       "</g>\n",
       "<!-- 139778157395416&#45;&gt;139778157393736 -->\n",
       "<g class=\"edge\" id=\"edge1\"><title>139778157395416-&gt;139778157393736</title>\n",
       "<path d=\"M84,-146.313C84,-138.289 84,-128.547 84,-119.569\" fill=\"none\" stroke=\"black\"/>\n",
       "<polygon fill=\"black\" points=\"87.5001,-119.529 84,-109.529 80.5001,-119.529 87.5001,-119.529\" stroke=\"black\"/>\n",
       "</g>\n",
       "<!-- 139778134312496 -->\n",
       "<g class=\"node\" id=\"node3\"><title>139778134312496</title>\n",
       "<polygon fill=\"none\" points=\"27,-0.5 27,-36.5 141,-36.5 141,-0.5 27,-0.5\" stroke=\"black\"/>\n",
       "<text font-family=\"Times,serif\" font-size=\"14.00\" text-anchor=\"middle\" x=\"84\" y=\"-14.8\">dense_19 (Dense)</text>\n",
       "</g>\n",
       "<!-- 139778157393736&#45;&gt;139778134312496 -->\n",
       "<g class=\"edge\" id=\"edge2\"><title>139778157393736-&gt;139778134312496</title>\n",
       "<path d=\"M84,-73.3129C84,-65.2895 84,-55.5475 84,-46.5691\" fill=\"none\" stroke=\"black\"/>\n",
       "<polygon fill=\"black\" points=\"87.5001,-46.5288 84,-36.5288 80.5001,-46.5289 87.5001,-46.5288\" stroke=\"black\"/>\n",
       "</g>\n",
       "</g>\n",
       "</svg>"
      ],
      "text/plain": [
       "<IPython.core.display.SVG object>"
      ]
     },
     "execution_count": 107,
     "metadata": {},
     "output_type": "execute_result"
    }
   ],
   "source": [
    "X_train = X_train.reshape(50000, 3072)\n",
    "X_test = X_test.reshape(10000, 3072)\n",
    "\n",
    "model2 = Sequential()\n",
    "model2.add(Dense(100, input_dim=3072, activation='relu'))\n",
    "model2.add(Dense(10, activation='relu'))\n",
    "\n",
    "sgd = SGD(lr=0.01, decay=1e-6, momentum=0.9, nesterov=True)\n",
    "model2.compile(loss='categorical_crossentropy', optimizer=sgd, metrics=['accuracy'])\n",
    "\n",
    "SVG(model_to_dot(model2).create(prog='dot', format='svg'))"
   ]
  },
  {
   "cell_type": "code",
   "execution_count": 108,
   "metadata": {
    "collapsed": false,
    "slideshow": {
     "slide_type": "subslide"
    }
   },
   "outputs": [
    {
     "name": "stdout",
     "output_type": "stream",
     "text": [
      "Train on 50000 samples, validate on 10000 samples\n",
      "Epoch 1/1\n",
      "50000/50000 [==============================] - 18s - loss: 7.6269 - acc: 0.1000 - val_loss: 7.5525 - val_acc: 0.1000\n"
     ]
    },
    {
     "data": {
      "text/plain": [
       "<keras.callbacks.History at 0x7f20a9abcd68>"
      ]
     },
     "execution_count": 108,
     "metadata": {},
     "output_type": "execute_result"
    }
   ],
   "source": [
    "model2.fit(X_train, Y_train, batch_size=batch_size, nb_epoch=nb_epoch, validation_data=(X_test, Y_test), shuffle=True)"
   ]
  },
  {
   "cell_type": "markdown",
   "metadata": {
    "slideshow": {
     "slide_type": "slide"
    }
   },
   "source": [
    "## Functional API\n",
    "\n",
    "Para tener más flexibilidad a la hora de construir una red neuronal que con `Sequential`, se puede usar esta parte de la biblioteca. Se pueden hacer cosas como:\n",
    "\n",
    "* Tener varias capas de salida.\n",
    "* Modelar una arquitectura de grafo dirigido acíclico.\n",
    "* Modelos que compartan capas."
   ]
  },
  {
   "cell_type": "markdown",
   "metadata": {
    "slideshow": {
     "slide_type": "subslide"
    }
   },
   "source": [
    "Un ejemplo simple:"
   ]
  },
  {
   "cell_type": "code",
   "execution_count": 109,
   "metadata": {
    "collapsed": false,
    "slideshow": {
     "slide_type": "-"
    }
   },
   "outputs": [],
   "source": [
    "from keras.layers import Input, Embedding, LSTM, Dense, merge\n",
    "from keras.models import Model\n",
    "\n",
    "main_input = Input(shape=(100,), dtype='int32', name='main_input')\n",
    "\n",
    "x = Embedding(output_dim=512, input_dim=10000, input_length=100)(main_input)\n",
    "\n",
    "lstm_out = LSTM(32)(x)\n",
    "\n",
    "auxiliary_loss = Dense(1, activation='sigmoid', name='aux_output')(lstm_out)\n",
    "\n",
    "auxiliary_input = Input(shape=(5,), name='aux_input')\n",
    "x = merge([lstm_out, auxiliary_input], mode='concat')\n",
    "\n",
    "x = Dense(64, activation='relu')(x)\n",
    "x = Dense(64, activation='relu')(x)\n",
    "x = Dense(64, activation='relu')(x)\n",
    "\n",
    "main_loss = Dense(1, activation='sigmoid', name='main_output')(x)\n",
    "\n",
    "model = Model(input=[main_input, auxiliary_input], output=[main_loss, auxiliary_loss])\n",
    "\n",
    "model.compile(optimizer='rmsprop', loss='binary_crossentropy',\n",
    "              loss_weights=[1., 0.2])"
   ]
  },
  {
   "cell_type": "code",
   "execution_count": 110,
   "metadata": {
    "collapsed": false,
    "slideshow": {
     "slide_type": "subslide"
    }
   },
   "outputs": [
    {
     "data": {
      "image/svg+xml": [
       "<svg height=\"556pt\" viewBox=\"0.00 0.00 305.00 556.00\" width=\"305pt\" xmlns=\"http://www.w3.org/2000/svg\" xmlns:xlink=\"http://www.w3.org/1999/xlink\">\n",
       "<g class=\"graph\" id=\"graph0\" transform=\"scale(1 1) rotate(0) translate(4 552)\">\n",
       "<title>G</title>\n",
       "<polygon fill=\"white\" points=\"-4,4 -4,-552 301,-552 301,4 -4,4\" stroke=\"none\"/>\n",
       "<!-- 139778262199096 -->\n",
       "<g class=\"node\" id=\"node1\"><title>139778262199096</title>\n",
       "<polygon fill=\"none\" points=\"137.5,-511.5 137.5,-547.5 289.5,-547.5 289.5,-511.5 137.5,-511.5\" stroke=\"black\"/>\n",
       "<text font-family=\"Times,serif\" font-size=\"14.00\" text-anchor=\"middle\" x=\"213.5\" y=\"-525.8\">main_input (InputLayer)</text>\n",
       "</g>\n",
       "<!-- 139778262198984 -->\n",
       "<g class=\"node\" id=\"node2\"><title>139778262198984</title>\n",
       "<polygon fill=\"none\" points=\"130,-438.5 130,-474.5 297,-474.5 297,-438.5 130,-438.5\" stroke=\"black\"/>\n",
       "<text font-family=\"Times,serif\" font-size=\"14.00\" text-anchor=\"middle\" x=\"213.5\" y=\"-452.8\">embedding_2 (Embedding)</text>\n",
       "</g>\n",
       "<!-- 139778262199096&#45;&gt;139778262198984 -->\n",
       "<g class=\"edge\" id=\"edge1\"><title>139778262199096-&gt;139778262198984</title>\n",
       "<path d=\"M213.5,-511.313C213.5,-503.289 213.5,-493.547 213.5,-484.569\" fill=\"none\" stroke=\"black\"/>\n",
       "<polygon fill=\"black\" points=\"217,-484.529 213.5,-474.529 210,-484.529 217,-484.529\" stroke=\"black\"/>\n",
       "</g>\n",
       "<!-- 139778262199320 -->\n",
       "<g class=\"node\" id=\"node4\"><title>139778262199320</title>\n",
       "<polygon fill=\"none\" points=\"161.5,-365.5 161.5,-401.5 265.5,-401.5 265.5,-365.5 161.5,-365.5\" stroke=\"black\"/>\n",
       "<text font-family=\"Times,serif\" font-size=\"14.00\" text-anchor=\"middle\" x=\"213.5\" y=\"-379.8\">lstm_2 (LSTM)</text>\n",
       "</g>\n",
       "<!-- 139778262198984&#45;&gt;139778262199320 -->\n",
       "<g class=\"edge\" id=\"edge2\"><title>139778262198984-&gt;139778262199320</title>\n",
       "<path d=\"M213.5,-438.313C213.5,-430.289 213.5,-420.547 213.5,-411.569\" fill=\"none\" stroke=\"black\"/>\n",
       "<polygon fill=\"black\" points=\"217,-411.529 213.5,-401.529 210,-411.529 217,-411.529\" stroke=\"black\"/>\n",
       "</g>\n",
       "<!-- 139778026568952 -->\n",
       "<g class=\"node\" id=\"node3\"><title>139778026568952</title>\n",
       "<polygon fill=\"none\" points=\"0,-365.5 0,-401.5 143,-401.5 143,-365.5 0,-365.5\" stroke=\"black\"/>\n",
       "<text font-family=\"Times,serif\" font-size=\"14.00\" text-anchor=\"middle\" x=\"71.5\" y=\"-379.8\">aux_input (InputLayer)</text>\n",
       "</g>\n",
       "<!-- 139778026566152 -->\n",
       "<g class=\"node\" id=\"node5\"><title>139778026566152</title>\n",
       "<polygon fill=\"none\" points=\"18,-292.5 18,-328.5 131,-328.5 131,-292.5 18,-292.5\" stroke=\"black\"/>\n",
       "<text font-family=\"Times,serif\" font-size=\"14.00\" text-anchor=\"middle\" x=\"74.5\" y=\"-306.8\">merge_1 (Merge)</text>\n",
       "</g>\n",
       "<!-- 139778026568952&#45;&gt;139778026566152 -->\n",
       "<g class=\"edge\" id=\"edge4\"><title>139778026568952-&gt;139778026566152</title>\n",
       "<path d=\"M72.2262,-365.313C72.5652,-357.289 72.9769,-347.547 73.3562,-338.569\" fill=\"none\" stroke=\"black\"/>\n",
       "<polygon fill=\"black\" points=\"76.8551,-338.668 73.7805,-328.529 69.8613,-338.372 76.8551,-338.668\" stroke=\"black\"/>\n",
       "</g>\n",
       "<!-- 139778262199320&#45;&gt;139778026566152 -->\n",
       "<g class=\"edge\" id=\"edge3\"><title>139778262199320-&gt;139778026566152</title>\n",
       "<path d=\"M180.206,-365.494C161.261,-355.817 137.337,-343.597 117.042,-333.23\" fill=\"none\" stroke=\"black\"/>\n",
       "<polygon fill=\"black\" points=\"118.502,-330.046 108.004,-328.614 115.317,-336.279 118.502,-330.046\" stroke=\"black\"/>\n",
       "</g>\n",
       "<!-- 139778262330840 -->\n",
       "<g class=\"node\" id=\"node9\"><title>139778262330840</title>\n",
       "<polygon fill=\"none\" points=\"151.5,-292.5 151.5,-328.5 275.5,-328.5 275.5,-292.5 151.5,-292.5\" stroke=\"black\"/>\n",
       "<text font-family=\"Times,serif\" font-size=\"14.00\" text-anchor=\"middle\" x=\"213.5\" y=\"-306.8\">aux_output (Dense)</text>\n",
       "</g>\n",
       "<!-- 139778262199320&#45;&gt;139778262330840 -->\n",
       "<g class=\"edge\" id=\"edge8\"><title>139778262199320-&gt;139778262330840</title>\n",
       "<path d=\"M213.5,-365.313C213.5,-357.289 213.5,-347.547 213.5,-338.569\" fill=\"none\" stroke=\"black\"/>\n",
       "<polygon fill=\"black\" points=\"217,-338.529 213.5,-328.529 210,-338.529 217,-338.529\" stroke=\"black\"/>\n",
       "</g>\n",
       "<!-- 139778026544712 -->\n",
       "<g class=\"node\" id=\"node6\"><title>139778026544712</title>\n",
       "<polygon fill=\"none\" points=\"17.5,-219.5 17.5,-255.5 131.5,-255.5 131.5,-219.5 17.5,-219.5\" stroke=\"black\"/>\n",
       "<text font-family=\"Times,serif\" font-size=\"14.00\" text-anchor=\"middle\" x=\"74.5\" y=\"-233.8\">dense_20 (Dense)</text>\n",
       "</g>\n",
       "<!-- 139778026566152&#45;&gt;139778026544712 -->\n",
       "<g class=\"edge\" id=\"edge5\"><title>139778026566152-&gt;139778026544712</title>\n",
       "<path d=\"M74.5,-292.313C74.5,-284.289 74.5,-274.547 74.5,-265.569\" fill=\"none\" stroke=\"black\"/>\n",
       "<polygon fill=\"black\" points=\"78.0001,-265.529 74.5,-255.529 71.0001,-265.529 78.0001,-265.529\" stroke=\"black\"/>\n",
       "</g>\n",
       "<!-- 139778026544264 -->\n",
       "<g class=\"node\" id=\"node7\"><title>139778026544264</title>\n",
       "<polygon fill=\"none\" points=\"17.5,-146.5 17.5,-182.5 131.5,-182.5 131.5,-146.5 17.5,-146.5\" stroke=\"black\"/>\n",
       "<text font-family=\"Times,serif\" font-size=\"14.00\" text-anchor=\"middle\" x=\"74.5\" y=\"-160.8\">dense_21 (Dense)</text>\n",
       "</g>\n",
       "<!-- 139778026544712&#45;&gt;139778026544264 -->\n",
       "<g class=\"edge\" id=\"edge6\"><title>139778026544712-&gt;139778026544264</title>\n",
       "<path d=\"M74.5,-219.313C74.5,-211.289 74.5,-201.547 74.5,-192.569\" fill=\"none\" stroke=\"black\"/>\n",
       "<polygon fill=\"black\" points=\"78.0001,-192.529 74.5,-182.529 71.0001,-192.529 78.0001,-192.529\" stroke=\"black\"/>\n",
       "</g>\n",
       "<!-- 139778271496736 -->\n",
       "<g class=\"node\" id=\"node8\"><title>139778271496736</title>\n",
       "<polygon fill=\"none\" points=\"17.5,-73.5 17.5,-109.5 131.5,-109.5 131.5,-73.5 17.5,-73.5\" stroke=\"black\"/>\n",
       "<text font-family=\"Times,serif\" font-size=\"14.00\" text-anchor=\"middle\" x=\"74.5\" y=\"-87.8\">dense_22 (Dense)</text>\n",
       "</g>\n",
       "<!-- 139778026544264&#45;&gt;139778271496736 -->\n",
       "<g class=\"edge\" id=\"edge7\"><title>139778026544264-&gt;139778271496736</title>\n",
       "<path d=\"M74.5,-146.313C74.5,-138.289 74.5,-128.547 74.5,-119.569\" fill=\"none\" stroke=\"black\"/>\n",
       "<polygon fill=\"black\" points=\"78.0001,-119.529 74.5,-109.529 71.0001,-119.529 78.0001,-119.529\" stroke=\"black\"/>\n",
       "</g>\n",
       "<!-- 139778271494832 -->\n",
       "<g class=\"node\" id=\"node10\"><title>139778271494832</title>\n",
       "<polygon fill=\"none\" points=\"8.5,-0.5 8.5,-36.5 140.5,-36.5 140.5,-0.5 8.5,-0.5\" stroke=\"black\"/>\n",
       "<text font-family=\"Times,serif\" font-size=\"14.00\" text-anchor=\"middle\" x=\"74.5\" y=\"-14.8\">main_output (Dense)</text>\n",
       "</g>\n",
       "<!-- 139778271496736&#45;&gt;139778271494832 -->\n",
       "<g class=\"edge\" id=\"edge9\"><title>139778271496736-&gt;139778271494832</title>\n",
       "<path d=\"M74.5,-73.3129C74.5,-65.2895 74.5,-55.5475 74.5,-46.5691\" fill=\"none\" stroke=\"black\"/>\n",
       "<polygon fill=\"black\" points=\"78.0001,-46.5288 74.5,-36.5288 71.0001,-46.5289 78.0001,-46.5288\" stroke=\"black\"/>\n",
       "</g>\n",
       "</g>\n",
       "</svg>"
      ],
      "text/plain": [
       "<IPython.core.display.SVG object>"
      ]
     },
     "execution_count": 110,
     "metadata": {},
     "output_type": "execute_result"
    }
   ],
   "source": [
    "SVG(model_to_dot(model).create(prog='dot', format='svg'))"
   ]
  },
  {
   "cell_type": "markdown",
   "metadata": {
    "slideshow": {
     "slide_type": "slide"
    }
   },
   "source": [
    "## Callbacks\n",
    "\n",
    "Permiten realizar acciones luego de ciertos eventos como al terminar de entrenar un batch o un epoch. Casos de usos de ejemplo:\n",
    "\n",
    "* Mostrar una barra de progreso mientras se entrena.\n",
    "* Guardar un histórico de medidas.\n",
    "* Definir un criterio de parada personalizado. Por ejemplo, dejar de entrenar el modelo si no mejora luego de cierta cantidad de iteraciones.\n",
    "* Persistir el modelo cada cierto tiempo, por si se corta la energía.\n",
    "* Monitorear remotamente el avance de un entrenamiento."
   ]
  },
  {
   "cell_type": "markdown",
   "metadata": {
    "slideshow": {
     "slide_type": "slide"
    }
   },
   "source": [
    "## Hay más\n",
    "\n",
    "Hay más cosas que se vieron poco acá pero que vale la pena mencionar que existen:\n",
    "\n",
    "* Usar TensorFlow en lugar de Theano como backend.\n",
    "* Poder controlar más el entrenamiento. Por ejemplo para el caso que se precisen manejar datos que no entren en memoria.\n",
    "* Cambiar los valores de inicialización de los pesos, con varias distribuciones de probabilidad para asignación aleatoria de valores de los pesos ya disponibles.\n",
    "* **Regulzarizadores**: permiten penalizar la función de costo si los pesos cumplen determinadas condiciones. Para combatir el sobreajuste.\n",
    "* **Restricciones**: se pueden poner restricciones en los pesos, como por ejemplo que su norma sea menor a un número dado o que sean no negativos.\n",
    "* Aceleración de cálculos utiilizando la GPU."
   ]
  },
  {
   "cell_type": "markdown",
   "metadata": {
    "slideshow": {
     "slide_type": "slide"
    }
   },
   "source": [
    "## Referencias\n",
    "\n",
    "* [Documentación de Keras](https://keras.io/)\n",
    "* [Ejemplos del repositorio de Keras](https://github.com/fchollet/keras/tree/master/examples)\n",
    "* [keras-resources](https://github.com/fchollet/keras-resources)"
   ]
  }
 ],
 "metadata": {
  "celltoolbar": "Slideshow",
  "kernelspec": {
   "display_name": "Python 3",
   "language": "python",
   "name": "python3"
  },
  "language_info": {
   "codemirror_mode": {
    "name": "ipython",
    "version": 3
   },
   "file_extension": ".py",
   "mimetype": "text/x-python",
   "name": "python",
   "nbconvert_exporter": "python",
   "pygments_lexer": "ipython3",
   "version": "3.5.2"
  }
 },
 "nbformat": 4,
 "nbformat_minor": 0
}
