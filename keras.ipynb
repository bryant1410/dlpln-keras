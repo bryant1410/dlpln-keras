{
 "cells": [
  {
   "cell_type": "markdown",
   "metadata": {},
   "source": [
    "# Keras\n",
    "\n",
    "Keras es una biblioteca para manipular redes neuronales. Es una capa de alto nivel por arriba de Theano (o de TensorFlow).\n",
    "\n",
    "## Ejemplo simple\n",
    "\n",
    "Construcción de una red neuronal:"
   ]
  },
  {
   "cell_type": "code",
   "execution_count": 178,
   "metadata": {
    "collapsed": false
   },
   "outputs": [],
   "source": [
    "%matplotlib inline\n",
    "from keras.layers import Dense, Activation\n",
    "from keras.models import Sequential\n",
    "\n",
    "model = Sequential()\n",
    "model.add(Dense(output_dim=2, input_dim=5, activation=\"sigmoid\"))\n",
    "model.add(Dense(output_dim=1, activation=\"sigmoid\"))"
   ]
  },
  {
   "cell_type": "markdown",
   "metadata": {},
   "source": [
    "Podemos ver una descripción del modelo:"
   ]
  },
  {
   "cell_type": "code",
   "execution_count": 179,
   "metadata": {
    "collapsed": false
   },
   "outputs": [
    {
     "name": "stdout",
     "output_type": "stream",
     "text": [
      "____________________________________________________________________________________________________\n",
      "Layer (type)                     Output Shape          Param #     Connected to                     \n",
      "====================================================================================================\n",
      "dense_25 (Dense)                 (None, 2)             12          dense_input_13[0][0]             \n",
      "____________________________________________________________________________________________________\n",
      "dense_26 (Dense)                 (None, 1)             3           dense_25[0][0]                   \n",
      "====================================================================================================\n",
      "Total params: 15\n",
      "____________________________________________________________________________________________________\n"
     ]
    }
   ],
   "source": [
    "model.summary()"
   ]
  },
  {
   "cell_type": "markdown",
   "metadata": {},
   "source": [
    "Así como también podemos visualizarlo:"
   ]
  },
  {
   "cell_type": "code",
   "execution_count": 180,
   "metadata": {
    "collapsed": false
   },
   "outputs": [
    {
     "data": {
      "image/svg+xml": [
       "<svg height=\"191pt\" viewBox=\"0.00 0.00 183.00 191.00\" width=\"183pt\" xmlns=\"http://www.w3.org/2000/svg\" xmlns:xlink=\"http://www.w3.org/1999/xlink\">\n",
       "<g class=\"graph\" id=\"graph0\" transform=\"scale(1 1) rotate(0) translate(4 187)\">\n",
       "<title>G</title>\n",
       "<polygon fill=\"white\" points=\"-4,4 -4,-187 179,-187 179,4 -4,4\" stroke=\"none\"/>\n",
       "<!-- 139942742696568 -->\n",
       "<g class=\"node\" id=\"node1\"><title>139942742696568</title>\n",
       "<polygon fill=\"none\" points=\"0,-146.5 0,-182.5 175,-182.5 175,-146.5 0,-146.5\" stroke=\"black\"/>\n",
       "<text font-family=\"Times,serif\" font-size=\"14.00\" text-anchor=\"middle\" x=\"87.5\" y=\"-160.8\">dense_input_13 (InputLayer)</text>\n",
       "</g>\n",
       "<!-- 139942748864352 -->\n",
       "<g class=\"node\" id=\"node2\"><title>139942748864352</title>\n",
       "<polygon fill=\"none\" points=\"30.5,-73.5 30.5,-109.5 144.5,-109.5 144.5,-73.5 30.5,-73.5\" stroke=\"black\"/>\n",
       "<text font-family=\"Times,serif\" font-size=\"14.00\" text-anchor=\"middle\" x=\"87.5\" y=\"-87.8\">dense_25 (Dense)</text>\n",
       "</g>\n",
       "<!-- 139942742696568&#45;&gt;139942748864352 -->\n",
       "<g class=\"edge\" id=\"edge1\"><title>139942742696568-&gt;139942748864352</title>\n",
       "<path d=\"M87.5,-146.313C87.5,-138.289 87.5,-128.547 87.5,-119.569\" fill=\"none\" stroke=\"black\"/>\n",
       "<polygon fill=\"black\" points=\"91.0001,-119.529 87.5,-109.529 84.0001,-119.529 91.0001,-119.529\" stroke=\"black\"/>\n",
       "</g>\n",
       "<!-- 139942742696848 -->\n",
       "<g class=\"node\" id=\"node3\"><title>139942742696848</title>\n",
       "<polygon fill=\"none\" points=\"30.5,-0.5 30.5,-36.5 144.5,-36.5 144.5,-0.5 30.5,-0.5\" stroke=\"black\"/>\n",
       "<text font-family=\"Times,serif\" font-size=\"14.00\" text-anchor=\"middle\" x=\"87.5\" y=\"-14.8\">dense_26 (Dense)</text>\n",
       "</g>\n",
       "<!-- 139942748864352&#45;&gt;139942742696848 -->\n",
       "<g class=\"edge\" id=\"edge2\"><title>139942748864352-&gt;139942742696848</title>\n",
       "<path d=\"M87.5,-73.3129C87.5,-65.2895 87.5,-55.5475 87.5,-46.5691\" fill=\"none\" stroke=\"black\"/>\n",
       "<polygon fill=\"black\" points=\"91.0001,-46.5288 87.5,-36.5288 84.0001,-46.5289 91.0001,-46.5288\" stroke=\"black\"/>\n",
       "</g>\n",
       "</g>\n",
       "</svg>"
      ],
      "text/plain": [
       "<IPython.core.display.SVG object>"
      ]
     },
     "execution_count": 180,
     "metadata": {},
     "output_type": "execute_result"
    }
   ],
   "source": [
    "from IPython.display import SVG\n",
    "from keras.utils.visualize_util import model_to_dot\n",
    "\n",
    "SVG(model_to_dot(model).create(prog='dot', format='svg'))"
   ]
  },
  {
   "cell_type": "markdown",
   "metadata": {},
   "source": [
    "Luego hay que compilar:"
   ]
  },
  {
   "cell_type": "code",
   "execution_count": 181,
   "metadata": {
    "collapsed": true
   },
   "outputs": [],
   "source": [
    "model.compile(loss='binary_crossentropy', optimizer='sgd', metrics=['accuracy'])"
   ]
  },
  {
   "cell_type": "markdown",
   "metadata": {},
   "source": [
    "Usamos un conjunto de datos de ejemplo:"
   ]
  },
  {
   "cell_type": "code",
   "execution_count": 182,
   "metadata": {
    "collapsed": false
   },
   "outputs": [],
   "source": [
    "import numpy as np\n",
    "\n",
    "def dataset(n_train, n_test):\n",
    "    n = n_train + n_test\n",
    "    points = np.random.uniform(-3, 3, [n, 2])\n",
    "    features = np.c_[points, points[:, 0]**2, points[:, 1]**2, points[:, 0] * points[:, 1]]\n",
    "    labels = (np.linalg.norm(points, axis=1) > 2).astype(int)\n",
    "    return (features[:n_train], labels[:n_train]), (features[n_train:], labels[n_train:])\n",
    "\n",
    "(X_train, y_train), (X_test, y_test) = dataset(8000, 2000)"
   ]
  },
  {
   "cell_type": "markdown",
   "metadata": {},
   "source": [
    "Entrenamos la red:"
   ]
  },
  {
   "cell_type": "code",
   "execution_count": 183,
   "metadata": {
    "collapsed": false
   },
   "outputs": [
    {
     "name": "stdout",
     "output_type": "stream",
     "text": [
      "Epoch 1/50\n",
      "8000/8000 [==============================] - 0s - loss: 0.6594 - acc: 0.6374     \n",
      "Epoch 2/50\n",
      "8000/8000 [==============================] - 0s - loss: 0.5829 - acc: 0.6590     \n",
      "Epoch 3/50\n",
      "8000/8000 [==============================] - 0s - loss: 0.5647 - acc: 0.6573     \n",
      "Epoch 4/50\n",
      "8000/8000 [==============================] - 0s - loss: 0.5497 - acc: 0.6813     \n",
      "Epoch 5/50\n",
      "8000/8000 [==============================] - 0s - loss: 0.5337 - acc: 0.7166     \n",
      "Epoch 6/50\n",
      "8000/8000 [==============================] - 0s - loss: 0.5163 - acc: 0.7474     \n",
      "Epoch 7/50\n",
      "8000/8000 [==============================] - 0s - loss: 0.4976 - acc: 0.7729     \n",
      "Epoch 8/50\n",
      "8000/8000 [==============================] - 0s - loss: 0.4779 - acc: 0.7999     \n",
      "Epoch 9/50\n",
      "8000/8000 [==============================] - 0s - loss: 0.4574 - acc: 0.8226     \n",
      "Epoch 10/50\n",
      "8000/8000 [==============================] - 0s - loss: 0.4362 - acc: 0.8429     \n",
      "Epoch 11/50\n",
      "8000/8000 [==============================] - 0s - loss: 0.4147 - acc: 0.8558     \n",
      "Epoch 12/50\n",
      "8000/8000 [==============================] - 0s - loss: 0.3933 - acc: 0.8745     \n",
      "Epoch 13/50\n",
      "8000/8000 [==============================] - 0s - loss: 0.3726 - acc: 0.8856     \n",
      "Epoch 14/50\n",
      "8000/8000 [==============================] - 0s - loss: 0.3529 - acc: 0.8973     \n",
      "Epoch 15/50\n",
      "8000/8000 [==============================] - 0s - loss: 0.3343 - acc: 0.9081     \n",
      "Epoch 16/50\n",
      "8000/8000 [==============================] - 0s - loss: 0.3170 - acc: 0.9189     \n",
      "Epoch 17/50\n",
      "8000/8000 [==============================] - 0s - loss: 0.3010 - acc: 0.9306     \n",
      "Epoch 18/50\n",
      "8000/8000 [==============================] - 0s - loss: 0.2861 - acc: 0.9344     \n",
      "Epoch 19/50\n",
      "8000/8000 [==============================] - 0s - loss: 0.2723 - acc: 0.9386     \n",
      "Epoch 20/50\n",
      "8000/8000 [==============================] - 0s - loss: 0.2596 - acc: 0.9479     \n",
      "Epoch 21/50\n",
      "8000/8000 [==============================] - 0s - loss: 0.2478 - acc: 0.9517     \n",
      "Epoch 22/50\n",
      "8000/8000 [==============================] - 0s - loss: 0.2368 - acc: 0.9565     \n",
      "Epoch 23/50\n",
      "8000/8000 [==============================] - 0s - loss: 0.2267 - acc: 0.9571     \n",
      "Epoch 24/50\n",
      "8000/8000 [==============================] - 0s - loss: 0.2173 - acc: 0.9619     \n",
      "Epoch 25/50\n",
      "8000/8000 [==============================] - 0s - loss: 0.2085 - acc: 0.9639     \n",
      "Epoch 26/50\n",
      "8000/8000 [==============================] - 0s - loss: 0.2004 - acc: 0.9674     \n",
      "Epoch 27/50\n",
      "8000/8000 [==============================] - 0s - loss: 0.1929 - acc: 0.9681     \n",
      "Epoch 28/50\n",
      "8000/8000 [==============================] - 0s - loss: 0.1858 - acc: 0.9705     \n",
      "Epoch 29/50\n",
      "8000/8000 [==============================] - 0s - loss: 0.1792 - acc: 0.9715     \n",
      "Epoch 30/50\n",
      "8000/8000 [==============================] - 0s - loss: 0.1730 - acc: 0.9736     \n",
      "Epoch 31/50\n",
      "8000/8000 [==============================] - 0s - loss: 0.1672 - acc: 0.9739     \n",
      "Epoch 32/50\n",
      "8000/8000 [==============================] - 0s - loss: 0.1617 - acc: 0.9765     \n",
      "Epoch 33/50\n",
      "8000/8000 [==============================] - 0s - loss: 0.1565 - acc: 0.9768     \n",
      "Epoch 34/50\n",
      "8000/8000 [==============================] - 0s - loss: 0.1517 - acc: 0.9777     \n",
      "Epoch 35/50\n",
      "8000/8000 [==============================] - 0s - loss: 0.1471 - acc: 0.9783     \n",
      "Epoch 36/50\n",
      "8000/8000 [==============================] - 0s - loss: 0.1428 - acc: 0.9785     \n",
      "Epoch 37/50\n",
      "8000/8000 [==============================] - 0s - loss: 0.1387 - acc: 0.9805     \n",
      "Epoch 38/50\n",
      "8000/8000 [==============================] - 0s - loss: 0.1348 - acc: 0.9805     \n",
      "Epoch 39/50\n",
      "8000/8000 [==============================] - 0s - loss: 0.1311 - acc: 0.9830     \n",
      "Epoch 40/50\n",
      "8000/8000 [==============================] - 0s - loss: 0.1277 - acc: 0.9816     \n",
      "Epoch 41/50\n",
      "8000/8000 [==============================] - 0s - loss: 0.1245 - acc: 0.9841     \n",
      "Epoch 42/50\n",
      "8000/8000 [==============================] - 0s - loss: 0.1213 - acc: 0.9840     \n",
      "Epoch 43/50\n",
      "8000/8000 [==============================] - 0s - loss: 0.1184 - acc: 0.9839     \n",
      "Epoch 44/50\n",
      "8000/8000 [==============================] - 0s - loss: 0.1157 - acc: 0.9863     \n",
      "Epoch 45/50\n",
      "8000/8000 [==============================] - 0s - loss: 0.1131 - acc: 0.9853     \n",
      "Epoch 46/50\n",
      "8000/8000 [==============================] - 0s - loss: 0.1105 - acc: 0.9874     \n",
      "Epoch 47/50\n",
      "8000/8000 [==============================] - 0s - loss: 0.1082 - acc: 0.9854     \n",
      "Epoch 48/50\n",
      "8000/8000 [==============================] - 0s - loss: 0.1060 - acc: 0.9882     \n",
      "Epoch 49/50\n",
      "8000/8000 [==============================] - 0s - loss: 0.1039 - acc: 0.9882     \n",
      "Epoch 50/50\n",
      "8000/8000 [==============================] - 0s - loss: 0.1019 - acc: 0.9880     \n"
     ]
    },
    {
     "data": {
      "text/plain": [
       "<keras.callbacks.History at 0x7f46ea1f4eb8>"
      ]
     },
     "execution_count": 183,
     "metadata": {},
     "output_type": "execute_result"
    }
   ],
   "source": [
    "model.fit(X_train, y_train, nb_epoch=50, batch_size=32)"
   ]
  },
  {
   "cell_type": "markdown",
   "metadata": {},
   "source": [
    "Podemos evaluar y ver métricas:"
   ]
  },
  {
   "cell_type": "code",
   "execution_count": 184,
   "metadata": {
    "collapsed": false
   },
   "outputs": [
    {
     "name": "stdout",
     "output_type": "stream",
     "text": [
      "  32/2000 [..............................] - ETA: 0s\n",
      "\n",
      "Valor de la función de costo: 0.09746023839712142\n",
      "Acierto: 0.9895\n"
     ]
    }
   ],
   "source": [
    "loss_and_metrics = model.evaluate(X_test, y_test, batch_size=32)\n",
    "print()\n",
    "print()\n",
    "print('Valor de la función de costo: {}'.format(loss_and_metrics[0]))\n",
    "print('Acierto: {}'.format(loss_and_metrics[1]))"
   ]
  },
  {
   "cell_type": "markdown",
   "metadata": {},
   "source": [
    "Y también podemos ver las clases predecidas y sus probablidades:"
   ]
  },
  {
   "cell_type": "code",
   "execution_count": 185,
   "metadata": {
    "collapsed": false
   },
   "outputs": [
    {
     "name": "stdout",
     "output_type": "stream",
     "text": [
      "  32/2000 [..............................] - ETA: 0s[[1]\n",
      " [1]\n",
      " [1]\n",
      " ..., \n",
      " [0]\n",
      " [1]\n",
      " [1]]\n",
      "[[ 0.96933961]\n",
      " [ 0.97795302]\n",
      " [ 0.9794724 ]\n",
      " ..., \n",
      " [ 0.25486836]\n",
      " [ 0.97937542]\n",
      " [ 0.93156236]]\n"
     ]
    }
   ],
   "source": [
    "y_pred = model.predict_classes(X_test)\n",
    "probability = model.predict_proba(X_test)\n",
    "\n",
    "print(y_pred)\n",
    "print(probability)"
   ]
  },
  {
   "cell_type": "code",
   "execution_count": 186,
   "metadata": {
    "collapsed": false
   },
   "outputs": [
    {
     "data": {
      "image/png": "[encoded data removed]",
      "text/plain": [
       "<matplotlib.figure.Figure at 0x7f46f60fab38>"
      ]
     },
     "metadata": {},
     "output_type": "display_data"
    }
   ],
   "source": [
    "import matplotlib.pyplot as plt\n",
    "\n",
    "def plot(inside, outside):\n",
    "    if inside.any():\n",
    "        plt.plot(inside[:, 0], inside[:, 1], 'bo')\n",
    "    if outside.any():\n",
    "        plt.plot(outside[:, 0], outside[:, 1], 'ro')\n",
    "    circle = plt.Circle((0, 0), radius=2, color='g', fill=False)\n",
    "    ax = plt.gca()\n",
    "    ax.set_aspect(1)\n",
    "    ax.add_patch(circle)\n",
    "    plt.show()\n",
    "\n",
    "points_test = X_test[:, :2]\n",
    "\n",
    "inside = np.array([x for x, y in zip(points_test, y_pred) if y == 0])\n",
    "outside = np.array([x for x, y in zip(points_test, y_pred) if y == 1])\n",
    "\n",
    "plot(inside, outside)"
   ]
  },
  {
   "cell_type": "markdown",
   "metadata": {},
   "source": [
    "## Funciones de costo disponibles\n",
    "\n",
    "* mean_squared_error\n",
    "* mean_absolute_error\n",
    "* mean_absolute_percentage_error\n",
    "* mean_squared_logarithmic_error\n",
    "* squared_hinge\n",
    "* hinge\n",
    "* binary_crossentropy\n",
    "* categorical_crossentropy\n",
    "* sparse_categorical_crossentropy\n",
    "* kullback_leibler_divergence\n",
    "* poisson\n",
    "* cosine_proximity\n",
    "\n",
    "## Optimizadores disponibles\n",
    "\n",
    "* SGD\n",
    "* RMSprop\n",
    "* Adagrad\n",
    "* Adadelta\n",
    "* Adam\n",
    "* Adamax\n",
    "* Nadam\n",
    "\n",
    "También se puede instanciar \"manualmente\" el optimizador para ajustar parámetros como la constante de aprendizaje, el momento y la desaceleración de la constante de aprendizaje:"
   ]
  },
  {
   "cell_type": "code",
   "execution_count": 189,
   "metadata": {
    "collapsed": false
   },
   "outputs": [],
   "source": [
    "from keras.optimizers import SGD\n",
    "\n",
    "model.compile(loss='binary_crossentropy', optimizer=SGD(lr=0.01, momentum=0.9, decay=0.001), metrics=['accuracy'])"
   ]
  },
  {
   "cell_type": "markdown",
   "metadata": {},
   "source": [
    "## Funciones de activación disponibles\n",
    "\n",
    "* softmax\n",
    "* softplus\n",
    "* softsign\n",
    "* relu\n",
    "* tanh\n",
    "* sigmoid\n",
    "* hard_sigmoid\n",
    "* linear\n",
    "\n",
    "## Compatibilidad con scikit-learn\n",
    "\n",
    "Keras provee una API para usar los modelos como si fueran parte de scikit-learn:"
   ]
  },
  {
   "cell_type": "code",
   "execution_count": 193,
   "metadata": {
    "collapsed": false
   },
   "outputs": [
    {
     "name": "stdout",
     "output_type": "stream",
     "text": [
      "Epoch 1/5\n",
      "8000/8000 [==============================] - 0s - loss: 0.0323 - acc: 0.9994     \n",
      "Epoch 2/5\n",
      "8000/8000 [==============================] - 0s - loss: 0.0323 - acc: 0.9995     \n",
      "Epoch 3/5\n",
      "8000/8000 [==============================] - 0s - loss: 0.0323 - acc: 0.9994     \n",
      "Epoch 4/5\n",
      "8000/8000 [==============================] - 0s - loss: 0.0323 - acc: 0.9994     \n",
      "Epoch 5/5\n",
      "8000/8000 [==============================] - 0s - loss: 0.0323 - acc: 0.9994     \n",
      "Epoch 1/5\n",
      "5333/5333 [==============================] - 0s - loss: 0.0332 - acc: 0.9991     \n",
      "Epoch 2/5\n",
      "5333/5333 [==============================] - 0s - loss: 0.0332 - acc: 0.9989     \n",
      "Epoch 3/5\n",
      "5333/5333 [==============================] - 0s - loss: 0.0331 - acc: 0.9989     \n",
      "Epoch 4/5\n",
      "5333/5333 [==============================] - 0s - loss: 0.0331 - acc: 0.9987     \n",
      "Epoch 5/5\n",
      "5333/5333 [==============================] - 0s - loss: 0.0331 - acc: 0.9989     \n",
      "1952/2667 [====================>.........] - ETA: 0sEpoch 1/5\n",
      "5333/5333 [==============================] - 0s - loss: 0.0315 - acc: 0.9989     \n",
      "Epoch 2/5\n",
      "5333/5333 [==============================] - 0s - loss: 0.0315 - acc: 0.9989     \n",
      "Epoch 3/5\n",
      "5333/5333 [==============================] - 0s - loss: 0.0315 - acc: 0.9991     \n",
      "Epoch 4/5\n",
      "5333/5333 [==============================] - 0s - loss: 0.0315 - acc: 0.9991     \n",
      "Epoch 5/5\n",
      "5333/5333 [==============================] - 0s - loss: 0.0315 - acc: 0.9991     \n",
      "1568/2667 [================>.............] - ETA: 0sEpoch 1/5\n",
      "5334/5334 [==============================] - 0s - loss: 0.0321 - acc: 0.9998     \n",
      "Epoch 2/5\n",
      "5334/5334 [==============================] - 0s - loss: 0.0320 - acc: 0.9998     \n",
      "Epoch 3/5\n",
      "5334/5334 [==============================] - 0s - loss: 0.0320 - acc: 0.9998     \n",
      "Epoch 4/5\n",
      "5334/5334 [==============================] - 0s - loss: 0.0320 - acc: 0.9998     \n",
      "Epoch 5/5\n",
      "5334/5334 [==============================] - 0s - loss: 0.0320 - acc: 0.9998     \n",
      "1888/2666 [====================>.........] - ETA: 0s\n",
      "\n",
      "Acierto: 0.9991249218378835\n"
     ]
    }
   ],
   "source": [
    "from keras.wrappers import scikit_learn\n",
    "from sklearn import cross_validation\n",
    "\n",
    "classifier = scikit_learn.KerasClassifier(build_fn=lambda: model, nb_epoch=5)\n",
    "# build_fn debe devolver un modelo compilado.\n",
    "\n",
    "classifier.fit(X_train, y_train)\n",
    "\n",
    "kfold = cross_validation.StratifiedKFold(y=y_train, n_folds=3, shuffle=True)\n",
    "results = cross_validation.cross_val_score(classifier, X_train, y_train, cv=kfold)\n",
    "print()\n",
    "print()\n",
    "print('Acierto: {}'.format(results.mean()))"
   ]
  },
  {
   "cell_type": "markdown",
   "metadata": {},
   "source": [
    "También está disponible la clase `KerasRegressor`. Con esto se pueden hacer cosas como usar `GridSearchCV` para buscar la combinación de parámetros que mejoran los resultados (valores de la constante de aprendizaje, momento, etc), así como también construir un pipeline en donde el modelo puede tomar datos a partir de otros modelos de scikit-learn."
   ]
  }
 ],
 "metadata": {
  "kernelspec": {
   "display_name": "Python 3",
   "language": "python",
   "name": "python3"
  },
  "language_info": {
   "codemirror_mode": {
    "name": "ipython",
    "version": 3
   },
   "file_extension": ".py",
   "mimetype": "text/x-python",
   "name": "python",
   "nbconvert_exporter": "python",
   "pygments_lexer": "ipython3",
   "version": "3.5.1"
  }
 },
 "nbformat": 4,
 "nbformat_minor": 0
}
